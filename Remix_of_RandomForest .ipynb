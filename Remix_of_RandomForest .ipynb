{
  "nbformat": 4,
  "nbformat_minor": 0,
  "metadata": {
    "colab": {
      "name": "Remix of RandomForest.ipynb",
      "provenance": [],
      "collapsed_sections": []
    },
    "kernelspec": {
      "name": "python3",
      "display_name": "Python 3"
    }
  },
  "cells": [
    {
      "cell_type": "code",
      "metadata": {
        "id": "NJBsTxkPYFph",
        "colab_type": "code",
        "colab": {}
      },
      "source": [
        "# Data Processing and Cleaning\n",
        "import numpy as np\n",
        "import pandas as pd\n",
        "\n",
        "# Data Visualization\n",
        "import matplotlib.pyplot as plt\n",
        "from mpl_toolkits.mplot3d import axes3d\n",
        "import seaborn as sns\n",
        "\n",
        "# Sklearn\n",
        "from sklearn.preprocessing import LabelEncoder\n",
        "from sklearn.model_selection import train_test_split\n",
        "from sklearn.metrics import mean_squared_error\n",
        "from sklearn.tree import export_graphviz\n",
        "\n",
        "# Modeling\n",
        "from sklearn.linear_model import LinearRegression\n",
        "from sklearn.ensemble import RandomForestRegressor\n",
        "from xgboost import XGBRegressor\n",
        "import lightgbm as lgb\n",
        "\n",
        "#Miscellaneous\n",
        "from tqdm import tqdm_notebook"
      ],
      "execution_count": 0,
      "outputs": []
    },
    {
      "cell_type": "code",
      "metadata": {
        "id": "me4LanRYd3sU",
        "colab_type": "code",
        "outputId": "43bb004f-e9d4-497e-8de9-b6e1150f7810",
        "colab": {
          "base_uri": "https://localhost:8080/",
          "height": 54
        }
      },
      "source": [
        "train = pd.read_csv('train.csv')\n",
        "test = pd.read_csv('test.csv')\n",
        "submission = pd.read_csv('sample_submission.csv')\n",
        "\n",
        "train.crew[1]"
      ],
      "execution_count": 0,
      "outputs": [
        {
          "output_type": "execute_result",
          "data": {
            "text/plain": [
              "\"[{'credit_id': '52fe43fe9251416c7502563d', 'department': 'Directing', 'gender': 2, 'id': 1201, 'job': 'Director', 'name': 'Garry Marshall', 'profile_path': '/kx77E8p5rnEmKxIhFT0qWCEMEik.jpg'}, {'credit_id': '52fe43fe9251416c75025667', 'department': 'Camera', 'gender': 2, 'id': 1214, 'job': 'Director of Photography', 'name': 'Charles Minsky', 'profile_path': None}, {'credit_id': '52fe43fe9251416c75025661', 'department': 'Sound', 'gender': 2, 'id': 4500, 'job': 'Original Music Composer', 'name': 'John Debney', 'profile_path': '/hTrlvZlDXQk49nfc2BM9sjKfJv.jpg'}, {'credit_id': '52fe43fe9251416c7502564f', 'department': 'Production', 'gender': 1, 'id': 8851, 'job': 'Producer', 'name': 'Whitney Houston', 'profile_path': '/69ouDnXnmklYPr4sMJXWKYz81AL.jpg'}, {'credit_id': '52fe43fe9251416c7502566d', 'department': 'Editing', 'gender': 0, 'id': 12970, 'job': 'Editor', 'name': 'Bruce Green', 'profile_path': '/yplxWPVgwK1b33AjvbhM9mWX2Aw.jpg'}, {'credit_id': '52fe43fe9251416c75025655', 'department': 'Production', 'gender': 2, 'id': 38415, 'job': 'Producer', 'name': 'Mario Iscovich', 'profile_path': None}, {'credit_id': '52fe43fe9251416c7502565b', 'department': 'Production', 'gender': 1, 'id': 38416, 'job': 'Executive Producer', 'name': 'Ellen H. Schwartz', 'profile_path': '/6WInjABr1sAYGXaa5qOvSrsHIqP.jpg'}, {'credit_id': '52fe43fe9251416c75025649', 'department': 'Production', 'gender': 1, 'id': 59973, 'job': 'Producer', 'name': 'Debra Martin Chase', 'profile_path': None}, {'credit_id': '52fe43fe9251416c75025643', 'department': 'Writing', 'gender': 1, 'id': 25539, 'job': 'Screenplay', 'name': 'Shonda Rhimes', 'profile_path': '/4c77e347InbTAlw9lGvORpZBHV6.jpg'}]\""
            ]
          },
          "metadata": {
            "tags": []
          },
          "execution_count": 3
        }
      ]
    },
    {
      "cell_type": "code",
      "metadata": {
        "id": "7n9qQPB5eIj4",
        "colab_type": "code",
        "colab": {}
      },
      "source": [
        "train['revenue'] = np.log1p(train['revenue'])\n"
      ],
      "execution_count": 0,
      "outputs": []
    },
    {
      "cell_type": "code",
      "metadata": {
        "id": "oHpdYuAzeMrt",
        "colab_type": "code",
        "colab": {}
      },
      "source": [
        "rf_cols = ['budget', 'original_language', 'release_date', 'runtime', 'overview', 'revenue']\n",
        "rf_train = train[rf_cols].copy()\n",
        "rf_cols.remove('revenue')\n",
        "rf_test = test[rf_cols].copy()"
      ],
      "execution_count": 0,
      "outputs": []
    },
    {
      "cell_type": "code",
      "metadata": {
        "id": "KGk70TkreRtE",
        "colab_type": "code",
        "outputId": "c1bab440-f036-4833-8797-66f199824b12",
        "colab": {
          "base_uri": "https://localhost:8080/",
          "height": 282
        }
      },
      "source": [
        "median_budget = rf_train[rf_train['budget'] > 0]['budget'].median()\n",
        "def fill_budget(df, median_budget):\n",
        "    df['budget_is_median'] = 0\n",
        "    df.loc[df.budget == 0, 'budget_is_median'] = 1\n",
        "    df.loc[df.budget == 0, 'budget'] = median_budget\n",
        "    return df\n",
        "\n",
        "rf_train = fill_budget(rf_train, median_budget)\n",
        "rf_test = fill_budget(rf_test, median_budget)\n",
        "\n",
        "# Plot runtime vs revenue\n",
        "plt.scatter(rf_train.runtime,rf_train.revenue)"
      ],
      "execution_count": 0,
      "outputs": [
        {
          "output_type": "execute_result",
          "data": {
            "text/plain": [
              "<matplotlib.collections.PathCollection at 0x7f3699194198>"
            ]
          },
          "metadata": {
            "tags": []
          },
          "execution_count": 18
        },
        {
          "output_type": "display_data",
          "data": {
            "image/png": "[encoded data removed]",
            "text/plain": [
              "<Figure size 432x288 with 1 Axes>"
            ]
          },
          "metadata": {
            "tags": []
          }
        }
      ]
    },
    {
      "cell_type": "code",
      "metadata": {
        "id": "VtDaHdgNeXSi",
        "colab_type": "code",
        "colab": {}
      },
      "source": [
        "rf_combined = pd.concat([rf_train, rf_test], sort=False)\n",
        "le = LabelEncoder()\n",
        "le.fit(rf_combined['original_language'])\n",
        "rf_train['original_language'] = le.transform(rf_train['original_language'])\n",
        "rf_test['original_language'] = le.transform(rf_test['original_language'])"
      ],
      "execution_count": 0,
      "outputs": []
    },
    {
      "cell_type": "code",
      "metadata": {
        "id": "clDo9a4KecAH",
        "colab_type": "code",
        "colab": {}
      },
      "source": [
        "rf_test.loc[rf_test['status'].isnull() == True, 'status'] = 'Released'\n",
        "rf_combined.loc[rf_combined['status'].isnull() == True, 'status'] = 'Released'\n",
        "le = LabelEncoder()\n",
        "le.fit(rf_combined['status'])\n",
        "rf_train['status'] = le.transform(rf_train['status'])\n",
        "rf_test['status'] = le.transform(rf_test['status'])"
      ],
      "execution_count": 0,
      "outputs": []
    },
    {
      "cell_type": "code",
      "metadata": {
        "id": "H4FEZ5IcegP-",
        "colab_type": "code",
        "colab": {}
      },
      "source": [
        "rf_train.loc[rf_train['homepage'].isnull() == True, 'homepage'] = 0\n",
        "rf_train.loc[rf_train['homepage'].isnull() == False, 'homepage'] = 1\n",
        "\n",
        "rf_test.loc[rf_test['homepage'].isnull() == True, 'homepage'] = 0\n",
        "rf_test.loc[rf_test['homepage'].isnull() == False, 'homepage'] = 1\n"
      ],
      "execution_count": 0,
      "outputs": []
    },
    {
      "cell_type": "code",
      "metadata": {
        "id": "uEap0nKIemZ3",
        "colab_type": "code",
        "colab": {}
      },
      "source": [
        "median_runtime = rf_train['runtime'].median()\n",
        "def fill_runtime(df, median_runtime):\n",
        "    df['runtime_is_median'] = 0\n",
        "    df.loc[df.runtime == 0, 'runtime_is_median'] = 1\n",
        "    df.loc[df.runtime.isnull() == True, 'runtime_is_median'] = 1\n",
        "    df.loc[df.runtime == 0, 'runtime'] = median_runtime\n",
        "    df.loc[df.runtime.isnull() == True, 'runtime'] = median_runtime\n",
        "    return df\n",
        "\n",
        "rf_train = fill_runtime(rf_train, median_runtime)\n",
        "rf_test = fill_runtime(rf_test, median_runtime)"
      ],
      "execution_count": 0,
      "outputs": []
    },
    {
      "cell_type": "code",
      "metadata": {
        "id": "_QvtpHKAer2z",
        "colab_type": "code",
        "colab": {}
      },
      "source": [
        "from datetime import timedelta, date"
      ],
      "execution_count": 0,
      "outputs": []
    },
    {
      "cell_type": "code",
      "metadata": {
        "id": "STI-ZdoXeuWP",
        "colab_type": "code",
        "colab": {}
      },
      "source": [
        "rf_test.loc[rf_test['release_date'].isnull() == True, 'release_date'] = '10/19/2001'\n",
        "test.loc[test['release_date'].isnull() == True, 'release_date'] = '10/19/2001'\n",
        "def add_date_features(df, col, prefix):\n",
        "    df[col] = pd.to_datetime(df[col])\n",
        "    future = df[col] > pd.Timestamp(year=2017,month=12,day=31)\n",
        "    df.loc[future, col] -= timedelta(days=365.25*100)\n",
        "    \n",
        "    df[prefix+'_day_of_week'] = df[col].dt.dayofweek\n",
        "    #df[prefix+'_day_of_year'] = df[col].dt.dayofyear\n",
        "    df[prefix+'_month'] = df[col].dt.month\n",
        "    df[prefix+'_year'] = df[col].dt.year\n",
        "    df[prefix+'_day'] = df[col].dt.day\n",
        "    #df[prefix+'_is_year_end'] = df[col].dt.is_year_end\n",
        "    #df[prefix+'_is_year_start'] = df[col].dt.is_year_start\n",
        "    #df[prefix+'_week'] = df[col].dt.week\n",
        "    df[prefix+'_quarter'] = df[col].dt.quarter    \n",
        "    \n",
        "    df.drop(col, axis = 1, inplace = True)\n",
        "\n",
        "    return df\n",
        "\n",
        "rf_train = add_date_features(rf_train, 'release_date', 'release')\n",
        "rf_test = add_date_features(rf_test, 'release_date', 'release')\n",
        "\n",
        "#  Plot runtime vs revenue\n",
        "plt.scatter(rf_train.runtime,rf_train.revenue)"
      ],
      "execution_count": 0,
      "outputs": []
    },
    {
      "cell_type": "code",
      "metadata": {
        "id": "XfSUWHExBCAT",
        "colab_type": "code",
        "outputId": "5400c190-4270-44b1-85f3-716cd5a359ff",
        "colab": {
          "base_uri": "https://localhost:8080/",
          "height": 1000
        }
      },
      "source": [
        "#plt.boxplot(rf_train.release_month, rf_train.revenue)\n",
        "months_data = []\n",
        "for i in range(1,13):\n",
        "  months_data.append(rf_train.revenue.loc[rf_train.release_month ==i] )\n",
        "\n",
        "# Create a figure instance\n",
        "fig = plt.figure(1, figsize=(9, 6))\n",
        "\n",
        "# Create an axes instance\n",
        "ax = fig.add_subplot(111)\n",
        "\n",
        "# Create the boxplot\n",
        "bp = ax.boxplot(months_data, autorange=True, showmeans=True, )\n",
        "plt.title(\"Revenue per Month\")\n",
        "plt.xlabel(\"Month Number\")\n",
        "plt.ylabel(\"Revenue\")\n",
        "\n",
        "#l = (rf_train.revenue.loc[rf_train.release_month ==i] for i in range(1,12)  )\n",
        "\n",
        "\n",
        "\n",
        "### Quarter\n",
        "quart_data = []\n",
        "for i in range(1,5):\n",
        "  quart_data.append(rf_train.revenue.loc[rf_train.release_quarter ==i] )\n",
        "\n",
        "# Create a figure instance\n",
        "fig = plt.figure(2, figsize=(9, 6))\n",
        "\n",
        "# Create an axes instance\n",
        "ax = fig.add_subplot(111)\n",
        "\n",
        "# Create the boxplot\n",
        "bp = ax.boxplot(quart_data, autorange=True, showmeans=True, )\n",
        "plt.title(\"Revenue per Yearly Quarter\")\n",
        "plt.xlabel(\"Quarter\")\n",
        "plt.ylabel(\"Revenue\")\n",
        "\n",
        "\n",
        "\n",
        "rf_train.head()"
      ],
      "execution_count": 0,
      "outputs": [
        {
          "output_type": "execute_result",
          "data": {
            "text/html": [
              "<div>\n",
              "<style scoped>\n",
              "    .dataframe tbody tr th:only-of-type {\n",
              "        vertical-align: middle;\n",
              "    }\n",
              "\n",
              "    .dataframe tbody tr th {\n",
              "        vertical-align: top;\n",
              "    }\n",
              "\n",
              "    .dataframe thead th {\n",
              "        text-align: right;\n",
              "    }\n",
              "</style>\n",
              "<table border=\"1\" class=\"dataframe\">\n",
              "  <thead>\n",
              "    <tr style=\"text-align: right;\">\n",
              "      <th></th>\n",
              "      <th>budget</th>\n",
              "      <th>original_language</th>\n",
              "      <th>runtime</th>\n",
              "      <th>overview</th>\n",
              "      <th>revenue</th>\n",
              "      <th>budget_is_median</th>\n",
              "      <th>runtime_is_median</th>\n",
              "      <th>release_day_of_week</th>\n",
              "      <th>release_month</th>\n",
              "      <th>release_year</th>\n",
              "      <th>release_day</th>\n",
              "      <th>release_quarter</th>\n",
              "    </tr>\n",
              "  </thead>\n",
              "  <tbody>\n",
              "    <tr>\n",
              "      <th>0</th>\n",
              "      <td>14000000.0</td>\n",
              "      <td>10</td>\n",
              "      <td>93.0</td>\n",
              "      <td>When Lou, who has become the \"father of the In...</td>\n",
              "      <td>16.326300</td>\n",
              "      <td>0</td>\n",
              "      <td>0</td>\n",
              "      <td>4</td>\n",
              "      <td>2</td>\n",
              "      <td>2015</td>\n",
              "      <td>20</td>\n",
              "      <td>1</td>\n",
              "    </tr>\n",
              "    <tr>\n",
              "      <th>1</th>\n",
              "      <td>40000000.0</td>\n",
              "      <td>10</td>\n",
              "      <td>113.0</td>\n",
              "      <td>Mia Thermopolis is now a college graduate and ...</td>\n",
              "      <td>18.370959</td>\n",
              "      <td>0</td>\n",
              "      <td>0</td>\n",
              "      <td>4</td>\n",
              "      <td>8</td>\n",
              "      <td>2004</td>\n",
              "      <td>6</td>\n",
              "      <td>3</td>\n",
              "    </tr>\n",
              "    <tr>\n",
              "      <th>2</th>\n",
              "      <td>3300000.0</td>\n",
              "      <td>10</td>\n",
              "      <td>105.0</td>\n",
              "      <td>Under the direction of a ruthless instructor, ...</td>\n",
              "      <td>16.387512</td>\n",
              "      <td>0</td>\n",
              "      <td>0</td>\n",
              "      <td>4</td>\n",
              "      <td>10</td>\n",
              "      <td>2014</td>\n",
              "      <td>10</td>\n",
              "      <td>4</td>\n",
              "    </tr>\n",
              "    <tr>\n",
              "      <th>3</th>\n",
              "      <td>1200000.0</td>\n",
              "      <td>16</td>\n",
              "      <td>122.0</td>\n",
              "      <td>Vidya Bagchi (Vidya Balan) arrives in Kolkata ...</td>\n",
              "      <td>16.588099</td>\n",
              "      <td>0</td>\n",
              "      <td>0</td>\n",
              "      <td>4</td>\n",
              "      <td>3</td>\n",
              "      <td>2012</td>\n",
              "      <td>9</td>\n",
              "      <td>1</td>\n",
              "    </tr>\n",
              "    <tr>\n",
              "      <th>4</th>\n",
              "      <td>16000000.0</td>\n",
              "      <td>24</td>\n",
              "      <td>118.0</td>\n",
              "      <td>Marine Boy is the story of a former national s...</td>\n",
              "      <td>15.182615</td>\n",
              "      <td>1</td>\n",
              "      <td>0</td>\n",
              "      <td>3</td>\n",
              "      <td>2</td>\n",
              "      <td>2009</td>\n",
              "      <td>5</td>\n",
              "      <td>1</td>\n",
              "    </tr>\n",
              "  </tbody>\n",
              "</table>\n",
              "</div>"
            ],
            "text/plain": [
              "       budget  original_language  ...  release_day release_quarter\n",
              "0  14000000.0                 10  ...           20               1\n",
              "1  40000000.0                 10  ...            6               3\n",
              "2   3300000.0                 10  ...           10               4\n",
              "3   1200000.0                 16  ...            9               1\n",
              "4  16000000.0                 24  ...            5               1\n",
              "\n",
              "[5 rows x 12 columns]"
            ]
          },
          "metadata": {
            "tags": []
          },
          "execution_count": 12
        },
        {
          "output_type": "display_data",
          "data": {
            "image/png": "[encoded data removed]",
            "text/plain": [
              "<Figure size 648x432 with 1 Axes>"
            ]
          },
          "metadata": {
            "tags": []
          }
        },
        {
          "output_type": "display_data",
          "data": {
            "image/png": "[encoded data removed]",
            "text/plain": [
              "<Figure size 648x432 with 1 Axes>"
            ]
          },
          "metadata": {
            "tags": []
          }
        }
      ]
    },
    {
      "cell_type": "code",
      "metadata": {
        "id": "r8NMsoTleyE3",
        "colab_type": "code",
        "colab": {}
      },
      "source": [
        "def get_dictionary(s):\n",
        "    try:\n",
        "        d = eval(s)\n",
        "    except:\n",
        "        d = {}\n",
        "    return d\n",
        "\n",
        "json_cols = ['production_companies', 'cast', 'crew', 'Keywords']\n",
        "for col in json_cols:\n",
        "    rf_train[col] = train[col]\n",
        "    rf_train[col] = rf_train[col].apply(lambda x: get_dictionary(x))\n",
        "    rf_test[col] = test[col]\n",
        "    rf_test[col] = rf_test[col].apply(lambda x: get_dictionary(x))\n",
        "\n"
      ],
      "execution_count": 0,
      "outputs": []
    },
    {
      "cell_type": "markdown",
      "metadata": {
        "id": "Ds6HO2QSzyVR",
        "colab_type": "text"
      },
      "source": [
        "CREATE A FEATURE ON  HOW MANY POPULAR ACTORS ARE IN THE MOVIE"
      ]
    },
    {
      "cell_type": "code",
      "metadata": {
        "id": "ug9aIvKAHQqr",
        "colab_type": "code",
        "colab": {}
      },
      "source": [
        "def get_num_pop_fts(feature, frame, pop_thresh):\n",
        "  # Takes in a feature and a dataframe\n",
        "  # Returns the input dataframe with a new column added to it \"num_pop_fts\"\n",
        "  # Num_pop_fts tells you how many occurrences of a \"popular feature\" there are that movies feature\n",
        "  # A popular feature is a feature that occurs more than pop_thresh times throughout the frame\n",
        "\n",
        "  # Used to find num_pop_actors, num_pop_directors, num_pop_prodcoms, num_pop_crew for every movie\n",
        "\n",
        "  num_pop_feats = np.zeros(np.shape(frame[feature]))\n",
        "  feats_frame = []\n",
        "\n",
        "  \n",
        "## Create a matrix where each vector is a list of all actors in a movie\n",
        "  for feats_dict in frame[feature]:\n",
        "    feats_list = []\n",
        "    if type(feats_dict) != list or len(feats_dict) < 1:\n",
        "      pass\n",
        "    else:\n",
        "      for item in feats_dict:\n",
        "        #print(item['name'])\n",
        "        feats_list.append(item['name'])\n",
        "    feats_frame.append(feats_list)\n",
        "    #print(\"j\", cast_dict)\n",
        "\n",
        "\n",
        "\n",
        "  ## Find all actors that are in more movies than the popularity threshold\n",
        "\n",
        "  # flatten column of lists of actors into one list\n",
        "  flattened = [val for sublist in feats_frame for val in sublist]\n",
        "\n",
        "  # find actors in at least 10 movies, add to new list\n",
        "  popular_feats = []\n",
        "  counts = Counter(flattened)\n",
        "\n",
        "  #print(counts)\n",
        "  for key, val in counts.items():\n",
        "    if val >= pop_thresh:\n",
        "      popular_feats.append(key)\n",
        "\n",
        "### MODODDODOD\n",
        "#  if frame is rf_train:\n",
        "#    feats_frame = feats_frame[:3000]\n",
        "#  elif frame is rf_test:\n",
        "#    feats_frame = feats_frame[3000:]\n",
        "#  else:\n",
        "#    print(\"invalid frame entered\")\n",
        "\n",
        "  ## Create a column with the number of popular actors in each movie\n",
        "  for idx in range(len(feats_frame)):\n",
        "    for ft in feats_frame[idx]:\n",
        "      if ft in popular_feats:\n",
        "        num_pop_feats[idx] += 1\n",
        "  \n",
        "  column_name = \"num_pop_\" + str(feature)\n",
        "  frame[str(column_name)] = num_pop_feats\n",
        "  frame.drop(feature, axis = 1, inplace = True)\n",
        "\n",
        "  return frame\n"
      ],
      "execution_count": 0,
      "outputs": []
    },
    {
      "cell_type": "code",
      "metadata": {
        "id": "S5LSju3CJHMZ",
        "colab_type": "code",
        "outputId": "caed47fa-6bc5-4697-cc50-4e5259fd1ed8",
        "colab": {
          "base_uri": "https://localhost:8080/",
          "height": 1000
        }
      },
      "source": [
        "from collections import Counter\n",
        "\n",
        "get_num_pop_fts('cast', rf_train, 10)\n",
        "get_num_pop_fts('crew', rf_train, 10)\n",
        "get_num_pop_fts('production_companies', rf_train, 10)\n",
        "get_num_pop_fts('Keywords', rf_train, 10)\n",
        "\n",
        "\n",
        "get_num_pop_fts('cast', rf_test, 10)\n",
        "get_num_pop_fts('crew', rf_test, 10)\n",
        "get_num_pop_fts('production_companies', rf_test, 10)\n",
        "get_num_pop_fts('Keywords', rf_test, 10)\n",
        "\n",
        "\n",
        "rf_train\n",
        "#np.shape(rf_train['cast'])"
      ],
      "execution_count": 0,
      "outputs": [
        {
          "output_type": "execute_result",
          "data": {
            "text/html": [
              "<div>\n",
              "<style scoped>\n",
              "    .dataframe tbody tr th:only-of-type {\n",
              "        vertical-align: middle;\n",
              "    }\n",
              "\n",
              "    .dataframe tbody tr th {\n",
              "        vertical-align: top;\n",
              "    }\n",
              "\n",
              "    .dataframe thead th {\n",
              "        text-align: right;\n",
              "    }\n",
              "</style>\n",
              "<table border=\"1\" class=\"dataframe\">\n",
              "  <thead>\n",
              "    <tr style=\"text-align: right;\">\n",
              "      <th></th>\n",
              "      <th>budget</th>\n",
              "      <th>original_language</th>\n",
              "      <th>runtime</th>\n",
              "      <th>overview</th>\n",
              "      <th>revenue</th>\n",
              "      <th>budget_is_median</th>\n",
              "      <th>runtime_is_median</th>\n",
              "      <th>release_day_of_week</th>\n",
              "      <th>release_month</th>\n",
              "      <th>release_year</th>\n",
              "      <th>release_day</th>\n",
              "      <th>release_quarter</th>\n",
              "      <th>num_pop_cast</th>\n",
              "      <th>num_pop_crew</th>\n",
              "      <th>num_pop_production_companies</th>\n",
              "      <th>num_pop_Keywords</th>\n",
              "    </tr>\n",
              "  </thead>\n",
              "  <tbody>\n",
              "    <tr>\n",
              "      <th>0</th>\n",
              "      <td>14000000.0</td>\n",
              "      <td>10</td>\n",
              "      <td>93.0</td>\n",
              "      <td>When Lou, who has become the \"father of the In...</td>\n",
              "      <td>16.326300</td>\n",
              "      <td>0</td>\n",
              "      <td>0</td>\n",
              "      <td>4</td>\n",
              "      <td>2</td>\n",
              "      <td>2015</td>\n",
              "      <td>20</td>\n",
              "      <td>1</td>\n",
              "      <td>2.0</td>\n",
              "      <td>1.0</td>\n",
              "      <td>3.0</td>\n",
              "      <td>3.0</td>\n",
              "    </tr>\n",
              "    <tr>\n",
              "      <th>1</th>\n",
              "      <td>40000000.0</td>\n",
              "      <td>10</td>\n",
              "      <td>113.0</td>\n",
              "      <td>Mia Thermopolis is now a college graduate and ...</td>\n",
              "      <td>18.370959</td>\n",
              "      <td>0</td>\n",
              "      <td>0</td>\n",
              "      <td>4</td>\n",
              "      <td>8</td>\n",
              "      <td>2004</td>\n",
              "      <td>6</td>\n",
              "      <td>3</td>\n",
              "      <td>0.0</td>\n",
              "      <td>2.0</td>\n",
              "      <td>1.0</td>\n",
              "      <td>1.0</td>\n",
              "    </tr>\n",
              "    <tr>\n",
              "      <th>2</th>\n",
              "      <td>3300000.0</td>\n",
              "      <td>10</td>\n",
              "      <td>105.0</td>\n",
              "      <td>Under the direction of a ruthless instructor, ...</td>\n",
              "      <td>16.387512</td>\n",
              "      <td>0</td>\n",
              "      <td>0</td>\n",
              "      <td>4</td>\n",
              "      <td>10</td>\n",
              "      <td>2014</td>\n",
              "      <td>10</td>\n",
              "      <td>4</td>\n",
              "      <td>1.0</td>\n",
              "      <td>3.0</td>\n",
              "      <td>1.0</td>\n",
              "      <td>4.0</td>\n",
              "    </tr>\n",
              "    <tr>\n",
              "      <th>3</th>\n",
              "      <td>1200000.0</td>\n",
              "      <td>16</td>\n",
              "      <td>122.0</td>\n",
              "      <td>Vidya Bagchi (Vidya Balan) arrives in Kolkata ...</td>\n",
              "      <td>16.588099</td>\n",
              "      <td>0</td>\n",
              "      <td>0</td>\n",
              "      <td>4</td>\n",
              "      <td>3</td>\n",
              "      <td>2012</td>\n",
              "      <td>9</td>\n",
              "      <td>1</td>\n",
              "      <td>0.0</td>\n",
              "      <td>0.0</td>\n",
              "      <td>0.0</td>\n",
              "      <td>2.0</td>\n",
              "    </tr>\n",
              "    <tr>\n",
              "      <th>4</th>\n",
              "      <td>16000000.0</td>\n",
              "      <td>24</td>\n",
              "      <td>118.0</td>\n",
              "      <td>Marine Boy is the story of a former national s...</td>\n",
              "      <td>15.182615</td>\n",
              "      <td>1</td>\n",
              "      <td>0</td>\n",
              "      <td>3</td>\n",
              "      <td>2</td>\n",
              "      <td>2009</td>\n",
              "      <td>5</td>\n",
              "      <td>1</td>\n",
              "      <td>0.0</td>\n",
              "      <td>0.0</td>\n",
              "      <td>0.0</td>\n",
              "      <td>0.0</td>\n",
              "    </tr>\n",
              "    <tr>\n",
              "      <th>...</th>\n",
              "      <td>...</td>\n",
              "      <td>...</td>\n",
              "      <td>...</td>\n",
              "      <td>...</td>\n",
              "      <td>...</td>\n",
              "      <td>...</td>\n",
              "      <td>...</td>\n",
              "      <td>...</td>\n",
              "      <td>...</td>\n",
              "      <td>...</td>\n",
              "      <td>...</td>\n",
              "      <td>...</td>\n",
              "      <td>...</td>\n",
              "      <td>...</td>\n",
              "      <td>...</td>\n",
              "      <td>...</td>\n",
              "    </tr>\n",
              "    <tr>\n",
              "      <th>2995</th>\n",
              "      <td>16000000.0</td>\n",
              "      <td>10</td>\n",
              "      <td>102.0</td>\n",
              "      <td>Military men Rock Reilly and Eddie Devane are ...</td>\n",
              "      <td>14.283442</td>\n",
              "      <td>1</td>\n",
              "      <td>0</td>\n",
              "      <td>4</td>\n",
              "      <td>4</td>\n",
              "      <td>1994</td>\n",
              "      <td>22</td>\n",
              "      <td>2</td>\n",
              "      <td>1.0</td>\n",
              "      <td>2.0</td>\n",
              "      <td>2.0</td>\n",
              "      <td>9.0</td>\n",
              "    </tr>\n",
              "    <tr>\n",
              "      <th>2996</th>\n",
              "      <td>16000000.0</td>\n",
              "      <td>35</td>\n",
              "      <td>102.0</td>\n",
              "      <td>Three girls in 1980s Stockholm decide to form ...</td>\n",
              "      <td>12.103990</td>\n",
              "      <td>1</td>\n",
              "      <td>0</td>\n",
              "      <td>3</td>\n",
              "      <td>3</td>\n",
              "      <td>2013</td>\n",
              "      <td>28</td>\n",
              "      <td>1</td>\n",
              "      <td>0.0</td>\n",
              "      <td>0.0</td>\n",
              "      <td>0.0</td>\n",
              "      <td>1.0</td>\n",
              "    </tr>\n",
              "    <tr>\n",
              "      <th>2997</th>\n",
              "      <td>65000000.0</td>\n",
              "      <td>10</td>\n",
              "      <td>120.0</td>\n",
              "      <td>Samantha Caine, suburban homemaker, is the ide...</td>\n",
              "      <td>18.309266</td>\n",
              "      <td>0</td>\n",
              "      <td>0</td>\n",
              "      <td>4</td>\n",
              "      <td>10</td>\n",
              "      <td>1996</td>\n",
              "      <td>11</td>\n",
              "      <td>4</td>\n",
              "      <td>3.0</td>\n",
              "      <td>5.0</td>\n",
              "      <td>1.0</td>\n",
              "      <td>7.0</td>\n",
              "    </tr>\n",
              "    <tr>\n",
              "      <th>2998</th>\n",
              "      <td>42000000.0</td>\n",
              "      <td>10</td>\n",
              "      <td>90.0</td>\n",
              "      <td>Reuben Feffer is a guy who's spent his entire ...</td>\n",
              "      <td>18.962792</td>\n",
              "      <td>0</td>\n",
              "      <td>0</td>\n",
              "      <td>4</td>\n",
              "      <td>1</td>\n",
              "      <td>2004</td>\n",
              "      <td>16</td>\n",
              "      <td>1</td>\n",
              "      <td>4.0</td>\n",
              "      <td>6.0</td>\n",
              "      <td>0.0</td>\n",
              "      <td>4.0</td>\n",
              "    </tr>\n",
              "    <tr>\n",
              "      <th>2999</th>\n",
              "      <td>35000000.0</td>\n",
              "      <td>10</td>\n",
              "      <td>106.0</td>\n",
              "      <td>A young man sets out to uncover the truth abou...</td>\n",
              "      <td>18.223292</td>\n",
              "      <td>0</td>\n",
              "      <td>0</td>\n",
              "      <td>3</td>\n",
              "      <td>9</td>\n",
              "      <td>2011</td>\n",
              "      <td>22</td>\n",
              "      <td>3</td>\n",
              "      <td>3.0</td>\n",
              "      <td>5.0</td>\n",
              "      <td>1.0</td>\n",
              "      <td>11.0</td>\n",
              "    </tr>\n",
              "  </tbody>\n",
              "</table>\n",
              "<p>3000 rows × 16 columns</p>\n",
              "</div>"
            ],
            "text/plain": [
              "          budget  ...  num_pop_Keywords\n",
              "0     14000000.0  ...               3.0\n",
              "1     40000000.0  ...               1.0\n",
              "2      3300000.0  ...               4.0\n",
              "3      1200000.0  ...               2.0\n",
              "4     16000000.0  ...               0.0\n",
              "...          ...  ...               ...\n",
              "2995  16000000.0  ...               9.0\n",
              "2996  16000000.0  ...               1.0\n",
              "2997  65000000.0  ...               7.0\n",
              "2998  42000000.0  ...               4.0\n",
              "2999  35000000.0  ...              11.0\n",
              "\n",
              "[3000 rows x 16 columns]"
            ]
          },
          "metadata": {
            "tags": []
          },
          "execution_count": 114
        }
      ]
    },
    {
      "cell_type": "code",
      "metadata": {
        "id": "_9V6lQgffeTd",
        "colab_type": "code",
        "colab": {}
      },
      "source": [
        "\"\"\"for col in json_cols:\n",
        "    # Get name of collection movie belongs to\n",
        "    if col == 'belongs_to_collection':\n",
        "        rf_train['collection_name'] = rf_train[col].apply(lambda row: row[0]['name'] if row != {} else '0')\n",
        "        rf_test['collection_name'] = rf_test[col].apply(lambda row: row[0]['name'] if row != {} else '0')\n",
        "        rf_combined = pd.concat([rf_train, rf_test], sort=False)\n",
        "        le = LabelEncoder()\n",
        "        le.fit(rf_combined['collection_name'])\n",
        "        rf_train['collection_name'] = le.transform(rf_train['collection_name'])\n",
        "        rf_test['collection_name'] = le.transform(rf_test['collection_name'])    \n",
        "    \n",
        "    # Size of feature\n",
        "    rf_train[col] = rf_train[col].apply(lambda row: 0 if row is None else len(row))\n",
        "    rf_test[col] = rf_test[col].apply(lambda row: 0 if row is None else len(row))\"\"\"\n",
        "\n",
        "# Word count for overview\n",
        "rf_train['overview_wordcount'] = rf_train['overview'].str.split().str.len()\n",
        "rf_train.drop('overview', axis = 1, inplace = True)\n",
        "rf_train.loc[rf_train['overview_wordcount'].isnull() == True, 'overview_wordcount'] = 0\n",
        "\n",
        "rf_test['overview_wordcount'] = rf_test['overview'].str.split().str.len()\n",
        "rf_test.drop('overview', axis = 1, inplace = True)\n",
        "rf_test.loc[rf_test['overview_wordcount'].isnull() == True, 'overview_wordcount'] = 0\n",
        "\n",
        "# Feature Interactions\n",
        "rf_train['_budget_runtime_ratio'] = np.round(rf_train['budget']/rf_train['runtime'], 2)\n",
        "#rf_train['_budget_year_ratio'] = np.round(rf_train['budget']/(rf_train['release_year']*rf_train['release_year']), 2)\n",
        "#rf_train['_budget_revenue_ratio'] = np.round(rf_train['budget']/(rf_train['revenue']), 3)\n",
        "\n",
        "\n",
        "rf_test['_budget_runtime_ratio'] = np.round(rf_test['budget']/rf_test['runtime'], 2)\n",
        "#rf_test['_budget_year_ratio'] = np.round(rf_test['budget']/(rf_test['release_year']*rf_test['release_year']), 2)\n"
      ],
      "execution_count": 0,
      "outputs": []
    },
    {
      "cell_type": "code",
      "metadata": {
        "id": "mGY9x4mYfiSr",
        "colab_type": "code",
        "outputId": "8d6717c2-b568-4ae3-c14b-0685509f0449",
        "colab": {
          "base_uri": "https://localhost:8080/",
          "height": 224
        }
      },
      "source": [
        "rf_train.head()"
      ],
      "execution_count": 0,
      "outputs": [
        {
          "output_type": "execute_result",
          "data": {
            "text/html": [
              "<div>\n",
              "<style scoped>\n",
              "    .dataframe tbody tr th:only-of-type {\n",
              "        vertical-align: middle;\n",
              "    }\n",
              "\n",
              "    .dataframe tbody tr th {\n",
              "        vertical-align: top;\n",
              "    }\n",
              "\n",
              "    .dataframe thead th {\n",
              "        text-align: right;\n",
              "    }\n",
              "</style>\n",
              "<table border=\"1\" class=\"dataframe\">\n",
              "  <thead>\n",
              "    <tr style=\"text-align: right;\">\n",
              "      <th></th>\n",
              "      <th>budget</th>\n",
              "      <th>original_language</th>\n",
              "      <th>runtime</th>\n",
              "      <th>status</th>\n",
              "      <th>homepage</th>\n",
              "      <th>revenue</th>\n",
              "      <th>budget_is_median</th>\n",
              "      <th>runtime_is_median</th>\n",
              "      <th>release_day_of_week</th>\n",
              "      <th>release_month</th>\n",
              "      <th>release_year</th>\n",
              "      <th>release_day</th>\n",
              "      <th>release_quarter</th>\n",
              "      <th>num_pop_cast</th>\n",
              "      <th>num_pop_crew</th>\n",
              "      <th>num_pop_production_companies</th>\n",
              "      <th>num_pop_Keywords</th>\n",
              "      <th>overview_wordcount</th>\n",
              "      <th>_budget_runtime_ratio</th>\n",
              "    </tr>\n",
              "  </thead>\n",
              "  <tbody>\n",
              "    <tr>\n",
              "      <th>0</th>\n",
              "      <td>14000000.0</td>\n",
              "      <td>10</td>\n",
              "      <td>93.0</td>\n",
              "      <td>1</td>\n",
              "      <td>1</td>\n",
              "      <td>16.326300</td>\n",
              "      <td>0</td>\n",
              "      <td>0</td>\n",
              "      <td>4</td>\n",
              "      <td>2</td>\n",
              "      <td>2015</td>\n",
              "      <td>20</td>\n",
              "      <td>1</td>\n",
              "      <td>2.0</td>\n",
              "      <td>1.0</td>\n",
              "      <td>3.0</td>\n",
              "      <td>3.0</td>\n",
              "      <td>29.0</td>\n",
              "      <td>150537.63</td>\n",
              "    </tr>\n",
              "    <tr>\n",
              "      <th>1</th>\n",
              "      <td>40000000.0</td>\n",
              "      <td>10</td>\n",
              "      <td>113.0</td>\n",
              "      <td>1</td>\n",
              "      <td>1</td>\n",
              "      <td>18.370959</td>\n",
              "      <td>0</td>\n",
              "      <td>0</td>\n",
              "      <td>4</td>\n",
              "      <td>8</td>\n",
              "      <td>2004</td>\n",
              "      <td>6</td>\n",
              "      <td>3</td>\n",
              "      <td>0.0</td>\n",
              "      <td>2.0</td>\n",
              "      <td>1.0</td>\n",
              "      <td>1.0</td>\n",
              "      <td>69.0</td>\n",
              "      <td>353982.30</td>\n",
              "    </tr>\n",
              "    <tr>\n",
              "      <th>2</th>\n",
              "      <td>3300000.0</td>\n",
              "      <td>10</td>\n",
              "      <td>105.0</td>\n",
              "      <td>1</td>\n",
              "      <td>1</td>\n",
              "      <td>16.387512</td>\n",
              "      <td>0</td>\n",
              "      <td>0</td>\n",
              "      <td>4</td>\n",
              "      <td>10</td>\n",
              "      <td>2014</td>\n",
              "      <td>10</td>\n",
              "      <td>4</td>\n",
              "      <td>1.0</td>\n",
              "      <td>3.0</td>\n",
              "      <td>1.0</td>\n",
              "      <td>4.0</td>\n",
              "      <td>21.0</td>\n",
              "      <td>31428.57</td>\n",
              "    </tr>\n",
              "    <tr>\n",
              "      <th>3</th>\n",
              "      <td>1200000.0</td>\n",
              "      <td>16</td>\n",
              "      <td>122.0</td>\n",
              "      <td>1</td>\n",
              "      <td>1</td>\n",
              "      <td>16.588099</td>\n",
              "      <td>0</td>\n",
              "      <td>0</td>\n",
              "      <td>4</td>\n",
              "      <td>3</td>\n",
              "      <td>2012</td>\n",
              "      <td>9</td>\n",
              "      <td>1</td>\n",
              "      <td>0.0</td>\n",
              "      <td>0.0</td>\n",
              "      <td>0.0</td>\n",
              "      <td>2.0</td>\n",
              "      <td>106.0</td>\n",
              "      <td>9836.07</td>\n",
              "    </tr>\n",
              "    <tr>\n",
              "      <th>4</th>\n",
              "      <td>16000000.0</td>\n",
              "      <td>24</td>\n",
              "      <td>118.0</td>\n",
              "      <td>1</td>\n",
              "      <td>1</td>\n",
              "      <td>15.182615</td>\n",
              "      <td>1</td>\n",
              "      <td>0</td>\n",
              "      <td>3</td>\n",
              "      <td>2</td>\n",
              "      <td>2009</td>\n",
              "      <td>5</td>\n",
              "      <td>1</td>\n",
              "      <td>0.0</td>\n",
              "      <td>0.0</td>\n",
              "      <td>0.0</td>\n",
              "      <td>0.0</td>\n",
              "      <td>32.0</td>\n",
              "      <td>135593.22</td>\n",
              "    </tr>\n",
              "  </tbody>\n",
              "</table>\n",
              "</div>"
            ],
            "text/plain": [
              "       budget  original_language  ...  overview_wordcount  _budget_runtime_ratio\n",
              "0  14000000.0                 10  ...                29.0              150537.63\n",
              "1  40000000.0                 10  ...                69.0              353982.30\n",
              "2   3300000.0                 10  ...                21.0               31428.57\n",
              "3   1200000.0                 16  ...               106.0                9836.07\n",
              "4  16000000.0                 24  ...                32.0              135593.22\n",
              "\n",
              "[5 rows x 19 columns]"
            ]
          },
          "metadata": {
            "tags": []
          },
          "execution_count": 17
        }
      ]
    },
    {
      "cell_type": "code",
      "metadata": {
        "id": "eS1Qs2bzfpC5",
        "colab_type": "code",
        "colab": {}
      },
      "source": [
        "X_train, X_valid, y_train, y_valid = train_test_split(\n",
        "    rf_train.drop('revenue', axis = 1), rf_train['revenue'], \n",
        "    test_size=0.1, \n",
        "    random_state=42\n",
        ")\n",
        "\n",
        "def rmse(y_pred, y_true):\n",
        "    return np.sqrt(mean_squared_error(y_pred, y_true))\n",
        "\n",
        "def print_rf_score(model):\n",
        "    print(f'Train R2:   {model.score(X_train, y_train)}')\n",
        "    print(f'Valid R2:   {model.score(X_valid, y_valid)}')\n",
        "    print(f'Train RMSE: {rmse(model.predict(X_train), y_train)}')\n",
        "    print(f'Valid RMSE: {rmse(model.predict(X_valid), y_valid)}')\n"
      ],
      "execution_count": 0,
      "outputs": []
    },
    {
      "cell_type": "code",
      "metadata": {
        "id": "ff0quwVWftgZ",
        "colab_type": "code",
        "outputId": "9aec83f2-a78c-484e-f6bd-a9221e9b7b1c",
        "colab": {
          "base_uri": "https://localhost:8080/",
          "height": 173
        }
      },
      "source": [
        "rf = RandomForestRegressor(n_jobs = -1, oob_score = True, random_state = 42)\n",
        "rf.fit(X_train, y_train)\n",
        "print_rf_score(rf)"
      ],
      "execution_count": 0,
      "outputs": [
        {
          "output_type": "stream",
          "text": [
            "/usr/local/lib/python3.6/dist-packages/sklearn/ensemble/forest.py:245: FutureWarning: The default value of n_estimators will change from 10 in version 0.20 to 100 in 0.22.\n",
            "  \"10 in version 0.20 to 100 in 0.22.\", FutureWarning)\n",
            "/usr/local/lib/python3.6/dist-packages/sklearn/ensemble/forest.py:737: UserWarning: Some inputs do not have OOB scores. This probably means too few trees were used to compute any reliable oob estimates.\n",
            "  warn(\"Some inputs do not have OOB scores. \"\n"
          ],
          "name": "stderr"
        },
        {
          "output_type": "stream",
          "text": [
            "Train R2:   0.895324666598982\n",
            "Valid R2:   0.46169809224428365\n",
            "Train RMSE: 0.9907437144920493\n",
            "Valid RMSE: 2.2257130841524075\n"
          ],
          "name": "stdout"
        }
      ]
    },
    {
      "cell_type": "code",
      "metadata": {
        "id": "FRzDLVg9hV5t",
        "colab_type": "code",
        "outputId": "54ee9bf4-2346-44f9-938e-87fdce462002",
        "colab": {
          "base_uri": "https://localhost:8080/",
          "height": 102
        }
      },
      "source": [
        "rf = RandomForestRegressor(\n",
        "    n_estimators = 20, \n",
        "    n_jobs = -1, \n",
        "    oob_score = True, \n",
        "    random_state = 42\n",
        ")\n",
        "rf.fit(X_train, y_train)\n",
        "print_rf_score(rf)\n",
        "print(f'OOB Score:  {rf.oob_score_}')\n",
        "\n"
      ],
      "execution_count": 0,
      "outputs": [
        {
          "output_type": "stream",
          "text": [
            "Train R2:   0.9134242496825966\n",
            "Valid R2:   0.4792315627926406\n",
            "Train RMSE: 0.9010259133219506\n",
            "Valid RMSE: 2.189165254944601\n",
            "OOB Score:  0.39330261747922757\n"
          ],
          "name": "stdout"
        }
      ]
    },
    {
      "cell_type": "code",
      "metadata": {
        "id": "7silcNW0huLd",
        "colab_type": "code",
        "outputId": "7e9de680-2801-449e-e4a5-400a310d0a0f",
        "colab": {
          "base_uri": "https://localhost:8080/",
          "height": 448
        }
      },
      "source": [
        "rf = RandomForestRegressor(\n",
        "    n_estimators = 20, \n",
        "    min_samples_leaf = 4, \n",
        "    max_features = 0.3, \n",
        "    n_jobs = -1, \n",
        "    oob_score = True, \n",
        "    random_state = 42\n",
        ")\n",
        "rf.fit(X_train, y_train)\n",
        "print_rf_score(rf)\n",
        "print(f'OOB Score:  {rf.oob_score_}')\n",
        "\n",
        "importances = rf.feature_importances_\n",
        "std = np.std([tree.feature_importances_ for tree in rf.estimators_],\n",
        "             axis=0)\n",
        "indices = np.argsort(importances)[::-1]\n",
        "\n",
        "# Print the feature ranking\n",
        "print(\"Feature ranking:\")\n",
        "\n",
        "\n",
        "# Plot the feature importances of the forest\n",
        "plt.figure()\n",
        "plt.title(\" Feature importances\")\n",
        "#plt.bar(indices,importances[indices],color=\"r\", align=\"center\") #can also add  yerr=std[indices],\n",
        "plt.barh(list(X_train), importances, color=\"r\", align=\"center\") #can also add  yerr=std[indices],\n",
        "\n",
        "plt.xlabel(\"Importances\")\n",
        "plt.show()\n",
        "\n",
        "print(importances)\n",
        "\n"
      ],
      "execution_count": 0,
      "outputs": [
        {
          "output_type": "stream",
          "text": [
            "Train R2:   0.7200351761966128\n",
            "Valid R2:   0.5001854233122724\n",
            "Train RMSE: 1.6202830292129144\n",
            "Valid RMSE: 2.144670994807949\n",
            "OOB Score:  0.4572179030739101\n",
            "Feature ranking:\n"
          ],
          "name": "stdout"
        },
        {
          "output_type": "display_data",
          "data": {
            "image/png": "[encoded data removed]",
            "text/plain": [
              "<Figure size 432x288 with 1 Axes>"
            ]
          },
          "metadata": {
            "tags": []
          }
        },
        {
          "output_type": "stream",
          "text": [
            "[0.18692944 0.02332903 0.05543232 0.04217292 0.00050465 0.02535892\n",
            " 0.02624993 0.06425074 0.04158761 0.01306203 0.03258215 0.08907714\n",
            " 0.12870141 0.02935416 0.0359359  0.20547165]\n"
          ],
          "name": "stdout"
        }
      ]
    },
    {
      "cell_type": "code",
      "metadata": {
        "id": "7ktKl60hhzuy",
        "colab_type": "code",
        "outputId": "3144ad40-a0ed-4f4f-cb40-819418ea2412",
        "colab": {
          "base_uri": "https://localhost:8080/",
          "height": 350
        }
      },
      "source": [
        "predictions = np.expm1(rf.predict(rf_test))\n",
        "submission['revenue'] = np.round(predictions)\n",
        "submission.to_csv('submission_simple_rf.csv', index = False)"
      ],
      "execution_count": 0,
      "outputs": [
        {
          "output_type": "error",
          "ename": "TypeError",
          "evalue": "ignored",
          "traceback": [
            "\u001b[0;31m---------------------------------------------------------------------------\u001b[0m",
            "\u001b[0;31mTypeError\u001b[0m                                 Traceback (most recent call last)",
            "\u001b[0;32m<ipython-input-208-a954de612b5a>\u001b[0m in \u001b[0;36m<module>\u001b[0;34m()\u001b[0m\n\u001b[0;32m----> 1\u001b[0;31m \u001b[0mpredictions\u001b[0m \u001b[0;34m=\u001b[0m \u001b[0mnp\u001b[0m\u001b[0;34m.\u001b[0m\u001b[0mexpm1\u001b[0m\u001b[0;34m(\u001b[0m\u001b[0mrf\u001b[0m\u001b[0;34m.\u001b[0m\u001b[0mpredict\u001b[0m\u001b[0;34m(\u001b[0m\u001b[0mrf_test\u001b[0m\u001b[0;34m)\u001b[0m\u001b[0;34m)\u001b[0m\u001b[0;34m\u001b[0m\u001b[0;34m\u001b[0m\u001b[0m\n\u001b[0m\u001b[1;32m      2\u001b[0m \u001b[0msubmission\u001b[0m\u001b[0;34m[\u001b[0m\u001b[0;34m'revenue'\u001b[0m\u001b[0;34m]\u001b[0m \u001b[0;34m=\u001b[0m \u001b[0mnp\u001b[0m\u001b[0;34m.\u001b[0m\u001b[0mround\u001b[0m\u001b[0;34m(\u001b[0m\u001b[0mpredictions\u001b[0m\u001b[0;34m)\u001b[0m\u001b[0;34m\u001b[0m\u001b[0;34m\u001b[0m\u001b[0m\n\u001b[1;32m      3\u001b[0m \u001b[0msubmission\u001b[0m\u001b[0;34m.\u001b[0m\u001b[0mto_csv\u001b[0m\u001b[0;34m(\u001b[0m\u001b[0;34m'submission_simple_rf.csv'\u001b[0m\u001b[0;34m,\u001b[0m \u001b[0mindex\u001b[0m \u001b[0;34m=\u001b[0m \u001b[0;32mFalse\u001b[0m\u001b[0;34m)\u001b[0m\u001b[0;34m\u001b[0m\u001b[0;34m\u001b[0m\u001b[0m\n",
            "\u001b[0;32m/usr/local/lib/python3.6/dist-packages/sklearn/ensemble/forest.py\u001b[0m in \u001b[0;36mpredict\u001b[0;34m(self, X)\u001b[0m\n\u001b[1;32m    691\u001b[0m         \u001b[0mcheck_is_fitted\u001b[0m\u001b[0;34m(\u001b[0m\u001b[0mself\u001b[0m\u001b[0;34m,\u001b[0m \u001b[0;34m'estimators_'\u001b[0m\u001b[0;34m)\u001b[0m\u001b[0;34m\u001b[0m\u001b[0;34m\u001b[0m\u001b[0m\n\u001b[1;32m    692\u001b[0m         \u001b[0;31m# Check data\u001b[0m\u001b[0;34m\u001b[0m\u001b[0;34m\u001b[0m\u001b[0;34m\u001b[0m\u001b[0m\n\u001b[0;32m--> 693\u001b[0;31m         \u001b[0mX\u001b[0m \u001b[0;34m=\u001b[0m \u001b[0mself\u001b[0m\u001b[0;34m.\u001b[0m\u001b[0m_validate_X_predict\u001b[0m\u001b[0;34m(\u001b[0m\u001b[0mX\u001b[0m\u001b[0;34m)\u001b[0m\u001b[0;34m\u001b[0m\u001b[0;34m\u001b[0m\u001b[0m\n\u001b[0m\u001b[1;32m    694\u001b[0m \u001b[0;34m\u001b[0m\u001b[0m\n\u001b[1;32m    695\u001b[0m         \u001b[0;31m# Assign chunk of trees to jobs\u001b[0m\u001b[0;34m\u001b[0m\u001b[0;34m\u001b[0m\u001b[0;34m\u001b[0m\u001b[0m\n",
            "\u001b[0;32m/usr/local/lib/python3.6/dist-packages/sklearn/ensemble/forest.py\u001b[0m in \u001b[0;36m_validate_X_predict\u001b[0;34m(self, X)\u001b[0m\n\u001b[1;32m    357\u001b[0m                                  \"call `fit` before exploiting the model.\")\n\u001b[1;32m    358\u001b[0m \u001b[0;34m\u001b[0m\u001b[0m\n\u001b[0;32m--> 359\u001b[0;31m         \u001b[0;32mreturn\u001b[0m \u001b[0mself\u001b[0m\u001b[0;34m.\u001b[0m\u001b[0mestimators_\u001b[0m\u001b[0;34m[\u001b[0m\u001b[0;36m0\u001b[0m\u001b[0;34m]\u001b[0m\u001b[0;34m.\u001b[0m\u001b[0m_validate_X_predict\u001b[0m\u001b[0;34m(\u001b[0m\u001b[0mX\u001b[0m\u001b[0;34m,\u001b[0m \u001b[0mcheck_input\u001b[0m\u001b[0;34m=\u001b[0m\u001b[0;32mTrue\u001b[0m\u001b[0;34m)\u001b[0m\u001b[0;34m\u001b[0m\u001b[0;34m\u001b[0m\u001b[0m\n\u001b[0m\u001b[1;32m    360\u001b[0m \u001b[0;34m\u001b[0m\u001b[0m\n\u001b[1;32m    361\u001b[0m     \u001b[0;34m@\u001b[0m\u001b[0mproperty\u001b[0m\u001b[0;34m\u001b[0m\u001b[0;34m\u001b[0m\u001b[0m\n",
            "\u001b[0;32m/usr/local/lib/python3.6/dist-packages/sklearn/tree/tree.py\u001b[0m in \u001b[0;36m_validate_X_predict\u001b[0;34m(self, X, check_input)\u001b[0m\n\u001b[1;32m    389\u001b[0m         \u001b[0;34m\"\"\"Validate X whenever one tries to predict, apply, predict_proba\"\"\"\u001b[0m\u001b[0;34m\u001b[0m\u001b[0;34m\u001b[0m\u001b[0m\n\u001b[1;32m    390\u001b[0m         \u001b[0;32mif\u001b[0m \u001b[0mcheck_input\u001b[0m\u001b[0;34m:\u001b[0m\u001b[0;34m\u001b[0m\u001b[0;34m\u001b[0m\u001b[0m\n\u001b[0;32m--> 391\u001b[0;31m             \u001b[0mX\u001b[0m \u001b[0;34m=\u001b[0m \u001b[0mcheck_array\u001b[0m\u001b[0;34m(\u001b[0m\u001b[0mX\u001b[0m\u001b[0;34m,\u001b[0m \u001b[0mdtype\u001b[0m\u001b[0;34m=\u001b[0m\u001b[0mDTYPE\u001b[0m\u001b[0;34m,\u001b[0m \u001b[0maccept_sparse\u001b[0m\u001b[0;34m=\u001b[0m\u001b[0;34m\"csr\"\u001b[0m\u001b[0;34m)\u001b[0m\u001b[0;34m\u001b[0m\u001b[0;34m\u001b[0m\u001b[0m\n\u001b[0m\u001b[1;32m    392\u001b[0m             if issparse(X) and (X.indices.dtype != np.intc or\n\u001b[1;32m    393\u001b[0m                                 X.indptr.dtype != np.intc):\n",
            "\u001b[0;32m/usr/local/lib/python3.6/dist-packages/sklearn/utils/validation.py\u001b[0m in \u001b[0;36mcheck_array\u001b[0;34m(array, accept_sparse, accept_large_sparse, dtype, order, copy, force_all_finite, ensure_2d, allow_nd, ensure_min_samples, ensure_min_features, warn_on_dtype, estimator)\u001b[0m\n\u001b[1;32m    494\u001b[0m             \u001b[0;32mtry\u001b[0m\u001b[0;34m:\u001b[0m\u001b[0;34m\u001b[0m\u001b[0;34m\u001b[0m\u001b[0m\n\u001b[1;32m    495\u001b[0m                 \u001b[0mwarnings\u001b[0m\u001b[0;34m.\u001b[0m\u001b[0msimplefilter\u001b[0m\u001b[0;34m(\u001b[0m\u001b[0;34m'error'\u001b[0m\u001b[0;34m,\u001b[0m \u001b[0mComplexWarning\u001b[0m\u001b[0;34m)\u001b[0m\u001b[0;34m\u001b[0m\u001b[0;34m\u001b[0m\u001b[0m\n\u001b[0;32m--> 496\u001b[0;31m                 \u001b[0marray\u001b[0m \u001b[0;34m=\u001b[0m \u001b[0mnp\u001b[0m\u001b[0;34m.\u001b[0m\u001b[0masarray\u001b[0m\u001b[0;34m(\u001b[0m\u001b[0marray\u001b[0m\u001b[0;34m,\u001b[0m \u001b[0mdtype\u001b[0m\u001b[0;34m=\u001b[0m\u001b[0mdtype\u001b[0m\u001b[0;34m,\u001b[0m \u001b[0morder\u001b[0m\u001b[0;34m=\u001b[0m\u001b[0morder\u001b[0m\u001b[0;34m)\u001b[0m\u001b[0;34m\u001b[0m\u001b[0;34m\u001b[0m\u001b[0m\n\u001b[0m\u001b[1;32m    497\u001b[0m             \u001b[0;32mexcept\u001b[0m \u001b[0mComplexWarning\u001b[0m\u001b[0;34m:\u001b[0m\u001b[0;34m\u001b[0m\u001b[0;34m\u001b[0m\u001b[0m\n\u001b[1;32m    498\u001b[0m                 raise ValueError(\"Complex data not supported\\n\"\n",
            "\u001b[0;32m/usr/local/lib/python3.6/dist-packages/numpy/core/_asarray.py\u001b[0m in \u001b[0;36masarray\u001b[0;34m(a, dtype, order)\u001b[0m\n\u001b[1;32m     83\u001b[0m \u001b[0;34m\u001b[0m\u001b[0m\n\u001b[1;32m     84\u001b[0m     \"\"\"\n\u001b[0;32m---> 85\u001b[0;31m     \u001b[0;32mreturn\u001b[0m \u001b[0marray\u001b[0m\u001b[0;34m(\u001b[0m\u001b[0ma\u001b[0m\u001b[0;34m,\u001b[0m \u001b[0mdtype\u001b[0m\u001b[0;34m,\u001b[0m \u001b[0mcopy\u001b[0m\u001b[0;34m=\u001b[0m\u001b[0;32mFalse\u001b[0m\u001b[0;34m,\u001b[0m \u001b[0morder\u001b[0m\u001b[0;34m=\u001b[0m\u001b[0morder\u001b[0m\u001b[0;34m)\u001b[0m\u001b[0;34m\u001b[0m\u001b[0;34m\u001b[0m\u001b[0m\n\u001b[0m\u001b[1;32m     86\u001b[0m \u001b[0;34m\u001b[0m\u001b[0m\n\u001b[1;32m     87\u001b[0m \u001b[0;34m\u001b[0m\u001b[0m\n",
            "\u001b[0;31mTypeError\u001b[0m: float() argument must be a string or a number, not 'dict'"
          ]
        }
      ]
    },
    {
      "cell_type": "code",
      "metadata": {
        "id": "_lUdtYS2wkbS",
        "colab_type": "code",
        "outputId": "0407110e-ef2d-4efb-95f7-32a4e2633b0e",
        "colab": {
          "base_uri": "https://localhost:8080/",
          "height": 371
        }
      },
      "source": [
        "\n",
        "a = list(X_train)\n",
        "print(a)\n",
        "\n",
        "for i in range(len(a)):\n",
        "  print(i, a[i])\n",
        "#print(list(X_train))"
      ],
      "execution_count": 0,
      "outputs": [
        {
          "output_type": "stream",
          "text": [
            "['budget', 'original_language', 'runtime', 'status', 'homepage', 'budget_is_median', 'runtime_is_median', 'release_day_of_week', 'release_month', 'release_year', 'release_day', 'release_quarter', 'num_pop_cast', 'num_pop_crew', 'num_pop_production_companies', 'num_pop_Keywords', 'overview_wordcount', '_budget_runtime_ratio']\n",
            "0 budget\n",
            "1 original_language\n",
            "2 runtime\n",
            "3 status\n",
            "4 homepage\n",
            "5 budget_is_median\n",
            "6 runtime_is_median\n",
            "7 release_day_of_week\n",
            "8 release_month\n",
            "9 release_year\n",
            "10 release_day\n",
            "11 release_quarter\n",
            "12 num_pop_cast\n",
            "13 num_pop_crew\n",
            "14 num_pop_production_companies\n",
            "15 num_pop_Keywords\n",
            "16 overview_wordcount\n",
            "17 _budget_runtime_ratio\n"
          ],
          "name": "stdout"
        }
      ]
    }
  ]
}