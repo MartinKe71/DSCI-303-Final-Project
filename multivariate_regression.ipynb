{
  "nbformat": 4,
  "nbformat_minor": 0,
  "metadata": {
    "colab": {
      "name": "dsci303_regression.ipynb",
      "provenance": [],
      "collapsed_sections": []
    },
    "kernelspec": {
      "name": "python3",
      "display_name": "Python 3"
    }
  },
  "cells": [
    {
      "cell_type": "code",
      "metadata": {
        "id": "KZe48YKeoEoT",
        "colab_type": "code",
        "colab": {}
      },
      "source": [
        "# Data Processing and Cleaning\n",
        "import numpy as np\n",
        "import pandas as pd\n",
        "\n",
        "# Data Visualization\n",
        "import matplotlib.pyplot as plt\n",
        "from mpl_toolkits.mplot3d import axes3d\n",
        "import seaborn as sns\n",
        "\n",
        "# Sklearn\n",
        "from sklearn.metrics import mean_squared_log_error\n",
        "from sklearn.preprocessing import LabelEncoder\n",
        "from sklearn.model_selection import train_test_split\n",
        "from sklearn.metrics import mean_squared_error\n",
        "from sklearn.tree import export_graphviz\n",
        "from sklearn.neighbors import KNeighborsRegressor\n",
        "from sklearn.linear_model import LinearRegression\n",
        "from sklearn.preprocessing import StandardScaler, MinMaxScaler\n",
        "\n",
        "# Modeling\n",
        "from sklearn.linear_model import LinearRegression\n",
        "from sklearn.ensemble import RandomForestRegressor\n",
        "from datetime import timedelta, date\n"
      ],
      "execution_count": 0,
      "outputs": []
    },
    {
      "cell_type": "code",
      "metadata": {
        "id": "qe2OZmzlqCQ3",
        "colab_type": "code",
        "colab": {}
      },
      "source": [
        "train = pd.read_csv('train.csv')\n",
        "test = pd.read_csv('test.csv')\n",
        "submission = pd.read_csv('sample_submission.csv')\n"
      ],
      "execution_count": 0,
      "outputs": []
    },
    {
      "cell_type": "code",
      "metadata": {
        "id": "CED0IOBxQPBY",
        "colab_type": "code",
        "colab": {}
      },
      "source": [
        "train.belongs_to_collection = train.belongs_to_collection.notna();\n",
        "test.belongs_to_collection = test.belongs_to_collection.notna();\n",
        "\n",
        "train.runtime.fillna(0)\n",
        "median_runtime = train[train['runtime'] > 0]['runtime'].median()\n",
        "def fill_runtime(df, median_runtime):\n",
        "    df['runtime_is_median'] = 0\n",
        "    df.loc[df.runtime == 0, 'runtime_is_median'] = 1\n",
        "    df.loc[df.runtime == 0, 'runtime'] = median_runtime\n",
        "    return df\n",
        "train = fill_runtime(train, median_runtime)\n",
        "test = fill_runtime(test, median_runtime)\n",
        "\n",
        "\n",
        "train.budget.fillna(0)\n",
        "median_budget = train[train['budget'] > 0]['budget'].median()\n",
        "def fill_budget(df, median_budget):\n",
        "    df['budget_is_median'] = 0\n",
        "    df.loc[df.budget == 0, 'budget_is_median'] = 1\n",
        "    df.loc[df.budget == 0, 'budget'] = median_budget\n",
        "    return df\n",
        "train = fill_budget(train, median_budget)\n",
        "test = fill_budget(test, median_budget)"
      ],
      "execution_count": 0,
      "outputs": []
    },
    {
      "cell_type": "code",
      "metadata": {
        "id": "JbLZKkYU1V1P",
        "colab_type": "code",
        "colab": {}
      },
      "source": [
        "test.loc[test['release_date'].isnull() == True, 'release_date'] = '10/19/2001'\n",
        "def add_date_features(df, col, prefix):\n",
        "    df[col] = pd.to_datetime(df[col])\n",
        "    future = df[col] > pd.Timestamp(year=2017,month=12,day=31)\n",
        "    df.loc[future, col] -= timedelta(days=365.25*100)\n",
        "    \n",
        "    df[prefix+'_day_of_week'] = df[col].dt.dayofweek\n",
        "    df[prefix+'_day_of_year'] = df[col].dt.dayofyear\n",
        "    df[prefix+'_month'] = df[col].dt.month\n",
        "    df[prefix+'_year'] = df[col].dt.year\n",
        "    df[prefix+'_day'] = df[col].dt.day\n",
        "    df[prefix+'_is_year_end'] = df[col].dt.is_year_end\n",
        "    df[prefix+'_is_year_start'] = df[col].dt.is_year_start\n",
        "    df[prefix+'_week'] = df[col].dt.week\n",
        "    df[prefix+'_quarter'] = df[col].dt.quarter    \n",
        "    \n",
        "    df.drop(col, axis = 1, inplace = True)\n",
        "\n",
        "    return df\n",
        "\n",
        "train = add_date_features(train, 'release_date', 'release')\n",
        "test = add_date_features(test, 'release_date', 'release')"
      ],
      "execution_count": 0,
      "outputs": []
    },
    {
      "cell_type": "code",
      "metadata": {
        "id": "F4VRbJxYrSjB",
        "colab_type": "code",
        "colab": {}
      },
      "source": [
        "train_y = train[['id', 'revenue']].set_index('id')\n",
        "\n",
        "# 'belongs_to_collection', 'original_language', 'production_companies',\n",
        "\n",
        "train_x = train.set_index('id')\n",
        "train_x = train[['budget', 'runtime', 'release_day_of_week', 'release_day_of_year', 'release_month', 'release_year', 'release_day', 'release_is_year_end', 'release_is_year_start', 'release_week', 'release_quarter']]\n",
        "train_x = pd.get_dummies(train_x)\n",
        "train_x = train_x.fillna(0)\n",
        "\n",
        "test_x = test.set_index('id')\n",
        "test_x = test[['budget','runtime', 'release_day_of_week', 'release_day_of_year', 'release_month', 'release_year', 'release_day', 'release_is_year_end', 'release_is_year_start', 'release_week', 'release_quarter']]\n",
        "test_x = pd.get_dummies(test_x)\n",
        "test_x = test_x.fillna(0)\n",
        "\n",
        "\n",
        "train_x, test_x = train_x.align(test_x, join = 'outer', axis =1, fill_value = 0)"
      ],
      "execution_count": 0,
      "outputs": []
    },
    {
      "cell_type": "code",
      "metadata": {
        "id": "jpvnqGBsuK3n",
        "colab_type": "code",
        "colab": {}
      },
      "source": [
        "train_X = train_x.values\n",
        "train_Y = train_y.values\n",
        "\n",
        "X_test = test_x.values\n",
        "\n",
        "\n",
        "X_train, X_val, y_train, y_val = train_test_split(train_X, train_Y, test_size=0.5, random_state=56)\n",
        "\n",
        "\n",
        "X_scaler = StandardScaler()\n",
        "X_train_scaled  = X_scaler.fit_transform(X_train)\n",
        "X_val_scaled    = X_scaler.transform(X_val)\n",
        "X_test_scaled   = X_scaler.transform(X_test)\n",
        "y_scaler = MinMaxScaler((0,1)) \n",
        "y_train_scaled  = y_scaler.fit_transform(np.log(y_train)).ravel() \n"
      ],
      "execution_count": 0,
      "outputs": []
    },
    {
      "cell_type": "code",
      "metadata": {
        "id": "Or5c7zW_nESm",
        "colab_type": "code",
        "outputId": "90bff9e7-1cc0-4a39-86a9-a126d3db6bb3",
        "colab": {
          "base_uri": "https://localhost:8080/",
          "height": 246
        }
      },
      "source": [
        "X_train_scaled"
      ],
      "execution_count": 20,
      "outputs": [
        {
          "output_type": "execute_result",
          "data": {
            "text/plain": [
              "array([[-0.68103027,  0.53650182, -0.2120655 , ..., -0.10383483,\n",
              "        -0.70107737, -0.5588243 ],\n",
              "       [-0.62869891, -0.63244933,  0.56378389, ..., -0.10383483,\n",
              "        -1.79083495, -1.47895214],\n",
              "       [-0.53634945, -0.72596542,  0.56378389, ..., -0.10383483,\n",
              "        -0.42863798, -0.5588243 ],\n",
              "       ...,\n",
              "       [-0.47478314,  0.95732424,  0.56378389, ..., -0.10383483,\n",
              "        -1.17784631, -1.47895214],\n",
              "       [-0.38243368, -0.63244933, -0.98791488, ..., -0.10383483,\n",
              "        -0.90540692, -0.5588243 ],\n",
              "       [ 6.91317385,  2.82764608, -2.53961365, ..., -0.10383483,\n",
              "         1.34221808,  1.28143136]])"
            ]
          },
          "metadata": {
            "tags": []
          },
          "execution_count": 20
        }
      ]
    },
    {
      "cell_type": "code",
      "metadata": {
        "id": "E0HGq5uywyaw",
        "colab_type": "code",
        "colab": {
          "base_uri": "https://localhost:8080/",
          "height": 70
        },
        "outputId": "bb66d20e-cf89-43a0-ecca-dcfcb7c3aaa7"
      },
      "source": [
        "# reg = KNeighborsRegressor().fit(X_train_scaled, y_train_scaled)\n",
        "reg = LinearRegression().fit(X_train_scaled, y_train_scaled)\n",
        "print(f'Regression Score: {reg.score(X_train_scaled, y_train_scaled)}')\n",
        "print(f'Regression Coefficient: {reg.coef_[0]}')\n",
        "print(f'Regression Intercept: {reg.intercept_}')"
      ],
      "execution_count": 21,
      "outputs": [
        {
          "output_type": "stream",
          "text": [
            "Regression Score: 0.22329809541418622\n",
            "Regression Coefficient: 0.06069759248313029\n",
            "Regression Intercept: 0.7536090472977895\n"
          ],
          "name": "stdout"
        }
      ]
    },
    {
      "cell_type": "code",
      "metadata": {
        "id": "ypvK2RJf6rvB",
        "colab_type": "code",
        "outputId": "e51217f2-eac9-4623-9c24-cd69c00c0fd1",
        "colab": {
          "base_uri": "https://localhost:8080/",
          "height": 70
        }
      },
      "source": [
        "def score_function(y_true, y_pred):\n",
        "    assert len(y_true) == len(y_pred)\n",
        "    return np.sqrt(np.mean((np.log1p(y_pred) - np.log1p(y_true))**2))\n",
        "\n",
        "def score_function2(y_true, y_pred):\n",
        "    y_pred = np.where(y_pred>0, y_pred, 0)\n",
        "    return np.sqrt(mean_squared_log_error(y_true, y_pred))\n",
        "\n",
        "def inverseY(y):\n",
        "    return np.exp(y_scaler.inverse_transform(np.reshape(y, (-1,1))))\n",
        "\n",
        "y_train_pred = inverseY(reg.predict(X_train_scaled))\n",
        "y_val_pred = inverseY(reg.predict(X_val_scaled))\n",
        "y_test_pred = inverseY(reg.predict(X_test_scaled))\n",
        "print(\"RMLS Error on Training Dataset:\\t\", score_function(y_train , y_train_pred), score_function2(y_train, y_train_pred))\n",
        "print(\"RMLS Error on Val Dataset:\\t\", score_function(y_val , y_val_pred), score_function2(y_val , y_val_pred))\n",
        "print(\"RMLS Error on Test Dataset:\\t Check by submitting on kaggle\")\n"
      ],
      "execution_count": 23,
      "outputs": [
        {
          "output_type": "stream",
          "text": [
            "RMLS Error on Training Dataset:\t 2.7132690362662517 2.7132690362662517\n",
            "RMLS Error on Val Dataset:\t 2.7387134018926 2.7387134018926\n",
            "RMLS Error on Test Dataset:\t Check by submitting on kaggle\n"
          ],
          "name": "stdout"
        }
      ]
    },
    {
      "cell_type": "code",
      "metadata": {
        "id": "1kFRbalP8HJ-",
        "colab_type": "code",
        "outputId": "096afd28-499c-4518-ec0d-d78ec2ccf88f",
        "colab": {
          "base_uri": "https://localhost:8080/",
          "height": 195
        }
      },
      "source": [
        "df_test = test.assign(revenue=y_test_pred)\n",
        "df_test_y = df_test[['id', 'revenue']].set_index('id')\n",
        "df_test_y.to_csv(\"sample_submission.csv\")\n",
        "\n",
        "pd.read_csv(\"sample_submission.csv\").head(5)"
      ],
      "execution_count": 24,
      "outputs": [
        {
          "output_type": "execute_result",
          "data": {
            "text/html": [
              "<div>\n",
              "<style scoped>\n",
              "    .dataframe tbody tr th:only-of-type {\n",
              "        vertical-align: middle;\n",
              "    }\n",
              "\n",
              "    .dataframe tbody tr th {\n",
              "        vertical-align: top;\n",
              "    }\n",
              "\n",
              "    .dataframe thead th {\n",
              "        text-align: right;\n",
              "    }\n",
              "</style>\n",
              "<table border=\"1\" class=\"dataframe\">\n",
              "  <thead>\n",
              "    <tr style=\"text-align: right;\">\n",
              "      <th></th>\n",
              "      <th>id</th>\n",
              "      <th>revenue</th>\n",
              "    </tr>\n",
              "  </thead>\n",
              "  <tbody>\n",
              "    <tr>\n",
              "      <th>0</th>\n",
              "      <td>3001</td>\n",
              "      <td>5.192400e+06</td>\n",
              "    </tr>\n",
              "    <tr>\n",
              "      <th>1</th>\n",
              "      <td>3002</td>\n",
              "      <td>1.727438e+06</td>\n",
              "    </tr>\n",
              "    <tr>\n",
              "      <th>2</th>\n",
              "      <td>3003</td>\n",
              "      <td>6.207549e+06</td>\n",
              "    </tr>\n",
              "    <tr>\n",
              "      <th>3</th>\n",
              "      <td>3004</td>\n",
              "      <td>5.182339e+06</td>\n",
              "    </tr>\n",
              "    <tr>\n",
              "      <th>4</th>\n",
              "      <td>3005</td>\n",
              "      <td>2.050884e+06</td>\n",
              "    </tr>\n",
              "  </tbody>\n",
              "</table>\n",
              "</div>"
            ],
            "text/plain": [
              "     id       revenue\n",
              "0  3001  5.192400e+06\n",
              "1  3002  1.727438e+06\n",
              "2  3003  6.207549e+06\n",
              "3  3004  5.182339e+06\n",
              "4  3005  2.050884e+06"
            ]
          },
          "metadata": {
            "tags": []
          },
          "execution_count": 24
        }
      ]
    }
  ]
}