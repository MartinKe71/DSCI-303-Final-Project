{
  "nbformat": 4,
  "nbformat_minor": 0,
  "metadata": {
    "colab": {
      "name": "RandomForest.ipynb",
      "provenance": []
    },
    "kernelspec": {
      "name": "python3",
      "display_name": "Python 3"
    }
  },
  "cells": [
    {
      "cell_type": "code",
      "metadata": {
        "id": "NJBsTxkPYFph",
        "colab_type": "code",
        "colab": {}
      },
      "source": [
        "# Data Processing and Cleaning\n",
        "import numpy as np\n",
        "import pandas as pd\n",
        "\n",
        "# Data Visualization\n",
        "import matplotlib.pyplot as plt\n",
        "from mpl_toolkits.mplot3d import axes3d\n",
        "import seaborn as sns\n",
        "\n",
        "# Sklearn\n",
        "from sklearn.preprocessing import LabelEncoder\n",
        "from sklearn.model_selection import train_test_split\n",
        "from sklearn.metrics import mean_squared_error\n",
        "from sklearn.tree import export_graphviz\n",
        "\n",
        "# Modeling\n",
        "from sklearn.linear_model import LinearRegression\n",
        "from sklearn.ensemble import RandomForestRegressor\n",
        "from xgboost import XGBRegressor\n",
        "import lightgbm as lgb\n",
        "\n",
        "#Miscellaneous\n",
        "from tqdm import tqdm_notebook"
      ],
      "execution_count": 0,
      "outputs": []
    },
    {
      "cell_type": "code",
      "metadata": {
        "id": "me4LanRYd3sU",
        "colab_type": "code",
        "colab": {}
      },
      "source": [
        "train = pd.read_csv('train.csv')\n",
        "test = pd.read_csv('test.csv')\n",
        "submission = pd.read_csv('sample_submission.csv')"
      ],
      "execution_count": 0,
      "outputs": []
    },
    {
      "cell_type": "code",
      "metadata": {
        "id": "g4-wIDiz2BvJ",
        "colab_type": "code",
        "outputId": "a2674785-813e-49c4-dc33-d6833a9579f3",
        "colab": {
          "base_uri": "https://localhost:8080/",
          "height": 126
        }
      },
      "source": [
        "\n",
        "#((pd.DataFrame(train.isnull().sum()).T)/len(train))*100\n",
        "#print(pd.DataFrame(test.isnull().sum()).T )\n",
        "\n",
        "\"\"\"\n",
        "train:\n",
        "7 feats with no genre\n",
        "8 with no overview\n",
        "156 without prod com\n",
        "2 without runtime\n",
        "276 witout kewrods\n",
        "13 without cast\n",
        "16 without crew\n",
        "\n",
        "test:\n",
        "16 genre\n",
        "14 overview\n",
        "258 prod coms\n",
        "4 runtime\n",
        "393 keywords\n",
        "13 cast\n",
        "22 crew\n",
        "\"\"\"\n",
        "\n",
        "pd.DataFrame(test.budget.value_counts()).T\n"
      ],
      "execution_count": 72,
      "outputs": [
        {
          "output_type": "execute_result",
          "data": {
            "text/html": [
              "<div>\n",
              "<style scoped>\n",
              "    .dataframe tbody tr th:only-of-type {\n",
              "        vertical-align: middle;\n",
              "    }\n",
              "\n",
              "    .dataframe tbody tr th {\n",
              "        vertical-align: top;\n",
              "    }\n",
              "\n",
              "    .dataframe thead th {\n",
              "        text-align: right;\n",
              "    }\n",
              "</style>\n",
              "<table border=\"1\" class=\"dataframe\">\n",
              "  <thead>\n",
              "    <tr style=\"text-align: right;\">\n",
              "      <th></th>\n",
              "      <th>0</th>\n",
              "      <th>20000000</th>\n",
              "      <th>25000000</th>\n",
              "      <th>15000000</th>\n",
              "      <th>10000000</th>\n",
              "      <th>30000000</th>\n",
              "      <th>40000000</th>\n",
              "      <th>5000000</th>\n",
              "      <th>35000000</th>\n",
              "      <th>50000000</th>\n",
              "      <th>6000000</th>\n",
              "      <th>12000000</th>\n",
              "      <th>3000000</th>\n",
              "      <th>60000000</th>\n",
              "      <th>18000000</th>\n",
              "      <th>4000000</th>\n",
              "      <th>2000000</th>\n",
              "      <th>8000000</th>\n",
              "      <th>70000000</th>\n",
              "      <th>45000000</th>\n",
              "      <th>7000000</th>\n",
              "      <th>1000000</th>\n",
              "      <th>80000000</th>\n",
              "      <th>11000000</th>\n",
              "      <th>14000000</th>\n",
              "      <th>17000000</th>\n",
              "      <th>3500000</th>\n",
              "      <th>9000000</th>\n",
              "      <th>2500000</th>\n",
              "      <th>75000000</th>\n",
              "      <th>22000000</th>\n",
              "      <th>150000000</th>\n",
              "      <th>13000000</th>\n",
              "      <th>55000000</th>\n",
              "      <th>28000000</th>\n",
              "      <th>100000000</th>\n",
              "      <th>16000000</th>\n",
              "      <th>19000000</th>\n",
              "      <th>24000000</th>\n",
              "      <th>6500000</th>\n",
              "      <th>...</th>\n",
              "      <th>9272437</th>\n",
              "      <th>10700000</th>\n",
              "      <th>1103000</th>\n",
              "      <th>17700000</th>\n",
              "      <th>15774948</th>\n",
              "      <th>176000003</th>\n",
              "      <th>4357373</th>\n",
              "      <th>243000</th>\n",
              "      <th>6600000</th>\n",
              "      <th>923000</th>\n",
              "      <th>1920000</th>\n",
              "      <th>27563396</th>\n",
              "      <th>325000</th>\n",
              "      <th>2280000</th>\n",
              "      <th>620000</th>\n",
              "      <th>30250000</th>\n",
              "      <th>1750000</th>\n",
              "      <th>2224000</th>\n",
              "      <th>22500000</th>\n",
              "      <th>26350000</th>\n",
              "      <th>450</th>\n",
              "      <th>139000000</th>\n",
              "      <th>26500000</th>\n",
              "      <th>36500000</th>\n",
              "      <th>16000</th>\n",
              "      <th>103000</th>\n",
              "      <th>58800000</th>\n",
              "      <th>13800000</th>\n",
              "      <th>103000000</th>\n",
              "      <th>707503</th>\n",
              "      <th>439000</th>\n",
              "      <th>5600000</th>\n",
              "      <th>8256269</th>\n",
              "      <th>14800000</th>\n",
              "      <th>8000</th>\n",
              "      <th>947000</th>\n",
              "      <th>390000</th>\n",
              "      <th>2479000</th>\n",
              "      <th>11097000</th>\n",
              "      <th>291000</th>\n",
              "    </tr>\n",
              "  </thead>\n",
              "  <tbody>\n",
              "    <tr>\n",
              "      <th>budget</th>\n",
              "      <td>1211</td>\n",
              "      <td>116</td>\n",
              "      <td>104</td>\n",
              "      <td>100</td>\n",
              "      <td>94</td>\n",
              "      <td>91</td>\n",
              "      <td>73</td>\n",
              "      <td>72</td>\n",
              "      <td>70</td>\n",
              "      <td>68</td>\n",
              "      <td>68</td>\n",
              "      <td>64</td>\n",
              "      <td>61</td>\n",
              "      <td>54</td>\n",
              "      <td>54</td>\n",
              "      <td>54</td>\n",
              "      <td>51</td>\n",
              "      <td>46</td>\n",
              "      <td>46</td>\n",
              "      <td>44</td>\n",
              "      <td>43</td>\n",
              "      <td>42</td>\n",
              "      <td>38</td>\n",
              "      <td>36</td>\n",
              "      <td>36</td>\n",
              "      <td>36</td>\n",
              "      <td>34</td>\n",
              "      <td>33</td>\n",
              "      <td>33</td>\n",
              "      <td>32</td>\n",
              "      <td>32</td>\n",
              "      <td>31</td>\n",
              "      <td>31</td>\n",
              "      <td>31</td>\n",
              "      <td>30</td>\n",
              "      <td>27</td>\n",
              "      <td>27</td>\n",
              "      <td>24</td>\n",
              "      <td>23</td>\n",
              "      <td>22</td>\n",
              "      <td>...</td>\n",
              "      <td>1</td>\n",
              "      <td>1</td>\n",
              "      <td>1</td>\n",
              "      <td>1</td>\n",
              "      <td>1</td>\n",
              "      <td>1</td>\n",
              "      <td>1</td>\n",
              "      <td>1</td>\n",
              "      <td>1</td>\n",
              "      <td>1</td>\n",
              "      <td>1</td>\n",
              "      <td>1</td>\n",
              "      <td>1</td>\n",
              "      <td>1</td>\n",
              "      <td>1</td>\n",
              "      <td>1</td>\n",
              "      <td>1</td>\n",
              "      <td>1</td>\n",
              "      <td>1</td>\n",
              "      <td>1</td>\n",
              "      <td>1</td>\n",
              "      <td>1</td>\n",
              "      <td>1</td>\n",
              "      <td>1</td>\n",
              "      <td>1</td>\n",
              "      <td>1</td>\n",
              "      <td>1</td>\n",
              "      <td>1</td>\n",
              "      <td>1</td>\n",
              "      <td>1</td>\n",
              "      <td>1</td>\n",
              "      <td>1</td>\n",
              "      <td>1</td>\n",
              "      <td>1</td>\n",
              "      <td>1</td>\n",
              "      <td>1</td>\n",
              "      <td>1</td>\n",
              "      <td>1</td>\n",
              "      <td>1</td>\n",
              "      <td>1</td>\n",
              "    </tr>\n",
              "  </tbody>\n",
              "</table>\n",
              "<p>1 rows × 511 columns</p>\n",
              "</div>"
            ],
            "text/plain": [
              "        0         20000000  25000000  ...  2479000   11097000  291000  \n",
              "budget      1211       116       104  ...         1         1         1\n",
              "\n",
              "[1 rows x 511 columns]"
            ]
          },
          "metadata": {
            "tags": []
          },
          "execution_count": 72
        }
      ]
    },
    {
      "cell_type": "code",
      "metadata": {
        "id": "zozEcZ2ZF59Q",
        "colab_type": "code",
        "colab": {
          "base_uri": "https://localhost:8080/",
          "height": 1000
        },
        "outputId": "d936733e-3424-4baf-f9ca-a3816be0aaab"
      },
      "source": [
        "plt.hist(train.revenue, bins = 300)"
      ],
      "execution_count": 88,
      "outputs": [
        {
          "output_type": "execute_result",
          "data": {
            "text/plain": [
              "(array([976., 287., 192., 164., 119.,  96.,  76.,  71.,  60.,  56.,  45.,\n",
              "         51.,  30.,  39.,  31.,  38.,  27.,  34.,  31.,  28.,  28.,  20.,\n",
              "         19.,  26.,  13.,  13.,  19.,  13.,   8.,  22.,  18.,  18.,  16.,\n",
              "          8.,  10.,   9.,  10.,  10.,   9.,   5.,   9.,   8.,   8.,   7.,\n",
              "          7.,   7.,   5.,   5.,   8.,   7.,   5.,   3.,   5.,   1.,   5.,\n",
              "          2.,   5.,   1.,   3.,   4.,   2.,   7.,   2.,   2.,   2.,   7.,\n",
              "          2.,   0.,   5.,   6.,   5.,   5.,   2.,   8.,   1.,   2.,   1.,\n",
              "          3.,   1.,   1.,   4.,   2.,   2.,   1.,   1.,   2.,   0.,   2.,\n",
              "          1.,   0.,   3.,   1.,   2.,   3.,   0.,   0.,   0.,   0.,   2.,\n",
              "          1.,   0.,   0.,   1.,   0.,   1.,   2.,   0.,   1.,   2.,   0.,\n",
              "          1.,   0.,   0.,   0.,   0.,   2.,   0.,   0.,   1.,   1.,   2.,\n",
              "          1.,   0.,   0.,   2.,   0.,   0.,   0.,   1.,   2.,   2.,   0.,\n",
              "          0.,   0.,   0.,   0.,   0.,   2.,   0.,   0.,   2.,   2.,   0.,\n",
              "          0.,   0.,   0.,   0.,   1.,   0.,   1.,   0.,   0.,   1.,   0.,\n",
              "          1.,   2.,   0.,   0.,   0.,   0.,   0.,   0.,   1.,   0.,   0.,\n",
              "          1.,   0.,   1.,   0.,   0.,   1.,   0.,   1.,   2.,   0.,   1.,\n",
              "          0.,   0.,   0.,   0.,   0.,   1.,   1.,   0.,   1.,   0.,   0.,\n",
              "          0.,   0.,   2.,   0.,   0.,   0.,   0.,   0.,   0.,   0.,   0.,\n",
              "          1.,   0.,   0.,   1.,   2.,   1.,   0.,   0.,   1.,   0.,   0.,\n",
              "          0.,   0.,   0.,   0.,   0.,   1.,   0.,   0.,   0.,   0.,   0.,\n",
              "          0.,   1.,   0.,   0.,   0.,   0.,   0.,   0.,   0.,   0.,   0.,\n",
              "          0.,   0.,   0.,   0.,   0.,   0.,   0.,   0.,   0.,   0.,   0.,\n",
              "          0.,   0.,   0.,   0.,   0.,   0.,   0.,   1.,   0.,   0.,   0.,\n",
              "          0.,   0.,   0.,   0.,   0.,   0.,   0.,   0.,   0.,   0.,   0.,\n",
              "          0.,   0.,   0.,   0.,   0.,   0.,   0.,   0.,   0.,   0.,   0.,\n",
              "          0.,   0.,   1.,   0.,   0.,   0.,   0.,   0.,   0.,   0.,   0.,\n",
              "          0.,   0.,   0.,   0.,   0.,   0.,   0.,   0.,   0.,   0.,   0.,\n",
              "          1.,   0.,   1.]),\n",
              " array([1.00000000e+00, 5.06519403e+06, 1.01303871e+07, 1.51955801e+07,\n",
              "        2.02607731e+07, 2.53259662e+07, 3.03911592e+07, 3.54563522e+07,\n",
              "        4.05215452e+07, 4.55867383e+07, 5.06519313e+07, 5.57171243e+07,\n",
              "        6.07823174e+07, 6.58475104e+07, 7.09127034e+07, 7.59778965e+07,\n",
              "        8.10430895e+07, 8.61082825e+07, 9.11734755e+07, 9.62386686e+07,\n",
              "        1.01303862e+08, 1.06369055e+08, 1.11434248e+08, 1.16499441e+08,\n",
              "        1.21564634e+08, 1.26629827e+08, 1.31695020e+08, 1.36760213e+08,\n",
              "        1.41825406e+08, 1.46890599e+08, 1.51955792e+08, 1.57020985e+08,\n",
              "        1.62086178e+08, 1.67151371e+08, 1.72216564e+08, 1.77281757e+08,\n",
              "        1.82346950e+08, 1.87412143e+08, 1.92477336e+08, 1.97542529e+08,\n",
              "        2.02607722e+08, 2.07672915e+08, 2.12738108e+08, 2.17803301e+08,\n",
              "        2.22868494e+08, 2.27933687e+08, 2.32998880e+08, 2.38064073e+08,\n",
              "        2.43129266e+08, 2.48194459e+08, 2.53259652e+08, 2.58324846e+08,\n",
              "        2.63390039e+08, 2.68455232e+08, 2.73520425e+08, 2.78585618e+08,\n",
              "        2.83650811e+08, 2.88716004e+08, 2.93781197e+08, 2.98846390e+08,\n",
              "        3.03911583e+08, 3.08976776e+08, 3.14041969e+08, 3.19107162e+08,\n",
              "        3.24172355e+08, 3.29237548e+08, 3.34302741e+08, 3.39367934e+08,\n",
              "        3.44433127e+08, 3.49498320e+08, 3.54563513e+08, 3.59628706e+08,\n",
              "        3.64693899e+08, 3.69759092e+08, 3.74824285e+08, 3.79889478e+08,\n",
              "        3.84954671e+08, 3.90019864e+08, 3.95085057e+08, 4.00150250e+08,\n",
              "        4.05215443e+08, 4.10280636e+08, 4.15345829e+08, 4.20411022e+08,\n",
              "        4.25476216e+08, 4.30541409e+08, 4.35606602e+08, 4.40671795e+08,\n",
              "        4.45736988e+08, 4.50802181e+08, 4.55867374e+08, 4.60932567e+08,\n",
              "        4.65997760e+08, 4.71062953e+08, 4.76128146e+08, 4.81193339e+08,\n",
              "        4.86258532e+08, 4.91323725e+08, 4.96388918e+08, 5.01454111e+08,\n",
              "        5.06519304e+08, 5.11584497e+08, 5.16649690e+08, 5.21714883e+08,\n",
              "        5.26780076e+08, 5.31845269e+08, 5.36910462e+08, 5.41975655e+08,\n",
              "        5.47040848e+08, 5.52106041e+08, 5.57171234e+08, 5.62236427e+08,\n",
              "        5.67301620e+08, 5.72366813e+08, 5.77432006e+08, 5.82497199e+08,\n",
              "        5.87562392e+08, 5.92627586e+08, 5.97692779e+08, 6.02757972e+08,\n",
              "        6.07823165e+08, 6.12888358e+08, 6.17953551e+08, 6.23018744e+08,\n",
              "        6.28083937e+08, 6.33149130e+08, 6.38214323e+08, 6.43279516e+08,\n",
              "        6.48344709e+08, 6.53409902e+08, 6.58475095e+08, 6.63540288e+08,\n",
              "        6.68605481e+08, 6.73670674e+08, 6.78735867e+08, 6.83801060e+08,\n",
              "        6.88866253e+08, 6.93931446e+08, 6.98996639e+08, 7.04061832e+08,\n",
              "        7.09127025e+08, 7.14192218e+08, 7.19257411e+08, 7.24322604e+08,\n",
              "        7.29387797e+08, 7.34452990e+08, 7.39518183e+08, 7.44583376e+08,\n",
              "        7.49648569e+08, 7.54713762e+08, 7.59778956e+08, 7.64844149e+08,\n",
              "        7.69909342e+08, 7.74974535e+08, 7.80039728e+08, 7.85104921e+08,\n",
              "        7.90170114e+08, 7.95235307e+08, 8.00300500e+08, 8.05365693e+08,\n",
              "        8.10430886e+08, 8.15496079e+08, 8.20561272e+08, 8.25626465e+08,\n",
              "        8.30691658e+08, 8.35756851e+08, 8.40822044e+08, 8.45887237e+08,\n",
              "        8.50952430e+08, 8.56017623e+08, 8.61082816e+08, 8.66148009e+08,\n",
              "        8.71213202e+08, 8.76278395e+08, 8.81343588e+08, 8.86408781e+08,\n",
              "        8.91473974e+08, 8.96539167e+08, 9.01604360e+08, 9.06669553e+08,\n",
              "        9.11734746e+08, 9.16799939e+08, 9.21865132e+08, 9.26930325e+08,\n",
              "        9.31995519e+08, 9.37060712e+08, 9.42125905e+08, 9.47191098e+08,\n",
              "        9.52256291e+08, 9.57321484e+08, 9.62386677e+08, 9.67451870e+08,\n",
              "        9.72517063e+08, 9.77582256e+08, 9.82647449e+08, 9.87712642e+08,\n",
              "        9.92777835e+08, 9.97843028e+08, 1.00290822e+09, 1.00797341e+09,\n",
              "        1.01303861e+09, 1.01810380e+09, 1.02316899e+09, 1.02823419e+09,\n",
              "        1.03329938e+09, 1.03836457e+09, 1.04342977e+09, 1.04849496e+09,\n",
              "        1.05356015e+09, 1.05862534e+09, 1.06369054e+09, 1.06875573e+09,\n",
              "        1.07382092e+09, 1.07888612e+09, 1.08395131e+09, 1.08901650e+09,\n",
              "        1.09408170e+09, 1.09914689e+09, 1.10421208e+09, 1.10927727e+09,\n",
              "        1.11434247e+09, 1.11940766e+09, 1.12447285e+09, 1.12953805e+09,\n",
              "        1.13460324e+09, 1.13966843e+09, 1.14473363e+09, 1.14979882e+09,\n",
              "        1.15486401e+09, 1.15992920e+09, 1.16499440e+09, 1.17005959e+09,\n",
              "        1.17512478e+09, 1.18018998e+09, 1.18525517e+09, 1.19032036e+09,\n",
              "        1.19538556e+09, 1.20045075e+09, 1.20551594e+09, 1.21058114e+09,\n",
              "        1.21564633e+09, 1.22071152e+09, 1.22577671e+09, 1.23084191e+09,\n",
              "        1.23590710e+09, 1.24097229e+09, 1.24603749e+09, 1.25110268e+09,\n",
              "        1.25616787e+09, 1.26123307e+09, 1.26629826e+09, 1.27136345e+09,\n",
              "        1.27642864e+09, 1.28149384e+09, 1.28655903e+09, 1.29162422e+09,\n",
              "        1.29668942e+09, 1.30175461e+09, 1.30681980e+09, 1.31188500e+09,\n",
              "        1.31695019e+09, 1.32201538e+09, 1.32708057e+09, 1.33214577e+09,\n",
              "        1.33721096e+09, 1.34227615e+09, 1.34734135e+09, 1.35240654e+09,\n",
              "        1.35747173e+09, 1.36253693e+09, 1.36760212e+09, 1.37266731e+09,\n",
              "        1.37773251e+09, 1.38279770e+09, 1.38786289e+09, 1.39292808e+09,\n",
              "        1.39799328e+09, 1.40305847e+09, 1.40812366e+09, 1.41318886e+09,\n",
              "        1.41825405e+09, 1.42331924e+09, 1.42838444e+09, 1.43344963e+09,\n",
              "        1.43851482e+09, 1.44358001e+09, 1.44864521e+09, 1.45371040e+09,\n",
              "        1.45877559e+09, 1.46384079e+09, 1.46890598e+09, 1.47397117e+09,\n",
              "        1.47903637e+09, 1.48410156e+09, 1.48916675e+09, 1.49423194e+09,\n",
              "        1.49929714e+09, 1.50436233e+09, 1.50942752e+09, 1.51449272e+09,\n",
              "        1.51955791e+09]),\n",
              " <a list of 300 Patch objects>)"
            ]
          },
          "metadata": {
            "tags": []
          },
          "execution_count": 88
        },
        {
          "output_type": "display_data",
          "data": {
            "image/png": "[encoded data removed]",
            "text/plain": [
              "<Figure size 432x288 with 1 Axes>"
            ]
          },
          "metadata": {
            "tags": []
          }
        }
      ]
    },
    {
      "cell_type": "code",
      "metadata": {
        "id": "7n9qQPB5eIj4",
        "colab_type": "code",
        "colab": {
          "base_uri": "https://localhost:8080/",
          "height": 446
        },
        "outputId": "840d66eb-125d-4300-aa35-5ec7a2abc3b4"
      },
      "source": [
        "train['revenue'] = np.log1p(train['revenue'])\n"
      ],
      "execution_count": 75,
      "outputs": [
        {
          "output_type": "error",
          "ename": "TypeError",
          "evalue": "ignored",
          "traceback": [
            "\u001b[0;31m---------------------------------------------------------------------------\u001b[0m",
            "\u001b[0;31mTypeError\u001b[0m                                 Traceback (most recent call last)",
            "\u001b[0;32m<ipython-input-69-d9270e33ed2d>\u001b[0m in \u001b[0;36m<module>\u001b[0;34m()\u001b[0m\n\u001b[0;32m----> 1\u001b[0;31m \u001b[0mplt\u001b[0m\u001b[0;34m.\u001b[0m\u001b[0mhist\u001b[0m\u001b[0;34m(\u001b[0m\u001b[0mtrain\u001b[0m\u001b[0;34m[\u001b[0m\u001b[0;34m'revenue'\u001b[0m\u001b[0;34m]\u001b[0m\u001b[0;34m)\u001b[0m\u001b[0;34m\u001b[0m\u001b[0;34m\u001b[0m\u001b[0m\n\u001b[0m\u001b[1;32m      2\u001b[0m \u001b[0mtrain\u001b[0m\u001b[0;34m[\u001b[0m\u001b[0;34m'revenue'\u001b[0m\u001b[0;34m]\u001b[0m \u001b[0;34m=\u001b[0m \u001b[0mnp\u001b[0m\u001b[0;34m.\u001b[0m\u001b[0mlog1p\u001b[0m\u001b[0;34m(\u001b[0m\u001b[0mtrain\u001b[0m\u001b[0;34m[\u001b[0m\u001b[0;34m'revenue'\u001b[0m\u001b[0;34m]\u001b[0m\u001b[0;34m)\u001b[0m\u001b[0;34m\u001b[0m\u001b[0;34m\u001b[0m\u001b[0m\n",
            "\u001b[0;31mTypeError\u001b[0m: list indices must be integers or slices, not str"
          ]
        },
        {
          "output_type": "display_data",
          "data": {
            "image/png": "[encoded data removed]",
            "text/plain": [
              "<Figure size 432x288 with 1 Axes>"
            ]
          },
          "metadata": {
            "tags": []
          }
        }
      ]
    },
    {
      "cell_type": "code",
      "metadata": {
        "id": "oHpdYuAzeMrt",
        "colab_type": "code",
        "colab": {}
      },
      "source": [
        "rf_cols = ['budget', 'status', 'homepage','original_language', 'release_date', 'runtime', 'revenue']\n",
        "rf_train = train[rf_cols].copy()\n",
        "rf_cols.remove('revenue')\n",
        "rf_test = test[rf_cols].copy()"
      ],
      "execution_count": 0,
      "outputs": []
    },
    {
      "cell_type": "code",
      "metadata": {
        "id": "KGk70TkreRtE",
        "colab_type": "code",
        "colab": {}
      },
      "source": [
        "median_budget = rf_train[rf_train['budget'] > 0]['budget'].median()\n",
        "def fill_budget(df, median_budget):\n",
        "    df['budget_is_median'] = 0\n",
        "    df.loc[df.budget == 0, 'budget_is_median'] = 1\n",
        "    df.loc[df.budget == 0, 'budget'] = median_budget\n",
        "    return df\n",
        "\n",
        "rf_train = fill_budget(rf_train, median_budget)\n",
        "rf_test = fill_budget(rf_test, median_budget)"
      ],
      "execution_count": 0,
      "outputs": []
    },
    {
      "cell_type": "code",
      "metadata": {
        "id": "VtDaHdgNeXSi",
        "colab_type": "code",
        "colab": {}
      },
      "source": [
        "rf_combined = pd.concat([rf_train, rf_test], sort=False)\n",
        "le = LabelEncoder()\n",
        "le.fit(rf_combined['original_language'])\n",
        "rf_train['original_language'] = le.transform(rf_train['original_language'])\n",
        "rf_test['original_language'] = le.transform(rf_test['original_language'])"
      ],
      "execution_count": 0,
      "outputs": []
    },
    {
      "cell_type": "code",
      "metadata": {
        "id": "clDo9a4KecAH",
        "colab_type": "code",
        "colab": {}
      },
      "source": [
        "rf_test.loc[rf_test['status'].isnull() == True, 'status'] = 'Released'\n",
        "rf_combined.loc[rf_combined['status'].isnull() == True, 'status'] = 'Released'\n",
        "le = LabelEncoder()\n",
        "le.fit(rf_combined['status'])\n",
        "rf_train['status'] = le.transform(rf_train['status'])\n",
        "rf_test['status'] = le.transform(rf_test['status'])"
      ],
      "execution_count": 0,
      "outputs": []
    },
    {
      "cell_type": "code",
      "metadata": {
        "id": "H4FEZ5IcegP-",
        "colab_type": "code",
        "colab": {}
      },
      "source": [
        "rf_train.loc[rf_train['homepage'].isnull() == True, 'homepage'] = 0\n",
        "rf_train.loc[rf_train['homepage'].isnull() == False, 'homepage'] = 1\n",
        "\n",
        "rf_test.loc[rf_test['homepage'].isnull() == True, 'homepage'] = 0\n",
        "rf_test.loc[rf_test['homepage'].isnull() == False, 'homepage'] = 1\n"
      ],
      "execution_count": 0,
      "outputs": []
    },
    {
      "cell_type": "code",
      "metadata": {
        "id": "uEap0nKIemZ3",
        "colab_type": "code",
        "colab": {}
      },
      "source": [
        "median_runtime = rf_train['runtime'].median()\n",
        "def fill_runtime(df, median_runtime):\n",
        "    df['runtime_is_median'] = 0\n",
        "    df.loc[df.runtime == 0, 'runtime_is_median'] = 1\n",
        "    df.loc[df.runtime.isnull() == True, 'runtime_is_median'] = 1\n",
        "    df.loc[df.runtime == 0, 'runtime'] = median_runtime\n",
        "    df.loc[df.runtime.isnull() == True, 'runtime'] = median_runtime\n",
        "    return df\n",
        "\n",
        "rf_train = fill_runtime(rf_train, median_runtime)\n",
        "rf_test = fill_runtime(rf_test, median_runtime)"
      ],
      "execution_count": 0,
      "outputs": []
    },
    {
      "cell_type": "code",
      "metadata": {
        "id": "_QvtpHKAer2z",
        "colab_type": "code",
        "colab": {}
      },
      "source": [
        "from datetime import timedelta, date"
      ],
      "execution_count": 0,
      "outputs": []
    },
    {
      "cell_type": "code",
      "metadata": {
        "id": "STI-ZdoXeuWP",
        "colab_type": "code",
        "colab": {}
      },
      "source": [
        "rf_test.loc[rf_test['release_date'].isnull() == True, 'release_date'] = '10/19/2001'\n",
        "test.loc[test['release_date'].isnull() == True, 'release_date'] = '10/19/2001'\n",
        "def add_date_features(df, col, prefix):\n",
        "    df[col] = pd.to_datetime(df[col])\n",
        "    future = df[col] > pd.Timestamp(year=2017,month=12,day=31)\n",
        "    df.loc[future, col] -= timedelta(days=365.25*100)\n",
        "    \n",
        "    df[prefix+'_day_of_week'] = df[col].dt.dayofweek\n",
        "    df[prefix+'_day_of_year'] = df[col].dt.dayofyear\n",
        "    df[prefix+'_month'] = df[col].dt.month\n",
        "    df[prefix+'_year'] = df[col].dt.year\n",
        "    df[prefix+'_day'] = df[col].dt.day\n",
        "    # df[prefix+'_is_year_end'] = df[col].dt.is_year_end\n",
        "    # df[prefix+'_is_year_start'] = df[col].dt.is_year_start\n",
        "    df[prefix+'_week'] = df[col].dt.week\n",
        "    # df[prefix+'_quarter'] = df[col].dt.quarter    \n",
        "    \n",
        "    df.drop(col, axis = 1, inplace = True)\n",
        "\n",
        "    return df\n",
        "\n",
        "rf_train = add_date_features(rf_train, 'release_date', 'release')\n",
        "rf_test = add_date_features(rf_test, 'release_date', 'release')"
      ],
      "execution_count": 0,
      "outputs": []
    },
    {
      "cell_type": "code",
      "metadata": {
        "id": "r8NMsoTleyE3",
        "colab_type": "code",
        "colab": {}
      },
      "source": [
        "def get_dictionary(s):\n",
        "    try:\n",
        "        d = eval(s)\n",
        "    except:\n",
        "        d = {}\n",
        "    return d\n",
        "\n",
        "json_cols = ['production_companies', 'production_countries', 'Keywords', 'belongs_to_collection']\n",
        "for col in json_cols:\n",
        "    rf_train[col] = train[col]\n",
        "    rf_train[col] = rf_train[col].apply(lambda x: get_dictionary(x))\n",
        "    rf_test[col] = test[col]\n",
        "    rf_test[col] = rf_test[col].apply(lambda x: get_dictionary(x))"
      ],
      "execution_count": 0,
      "outputs": []
    },
    {
      "cell_type": "code",
      "metadata": {
        "id": "_9V6lQgffeTd",
        "colab_type": "code",
        "colab": {}
      },
      "source": [
        "for col in json_cols:\n",
        "    # Get name of collection movie belongs to\n",
        "    if col == 'belongs_to_collection':\n",
        "        rf_train['collection_name'] = rf_train[col].apply(lambda row: row[0]['name'] if row != {} else '0')\n",
        "        rf_test['collection_name'] = rf_test[col].apply(lambda row: row[0]['name'] if row != {} else '0')\n",
        "        rf_combined = pd.concat([rf_train, rf_test], sort=False)\n",
        "        le = LabelEncoder()\n",
        "        le.fit(rf_combined['collection_name'])\n",
        "        rf_train['collection_name'] = le.transform(rf_train['collection_name'])\n",
        "        rf_test['collection_name'] = le.transform(rf_test['collection_name'])    \n",
        "    \n",
        "    # Size of feature\n",
        "    rf_train[col] = rf_train[col].apply(lambda row: 0 if row is None else len(row))\n",
        "    rf_test[col] = rf_test[col].apply(lambda row: 0 if row is None else len(row))\n",
        "\n",
        "# # Word count for overview\n",
        "# rf_train['overview_wordcount'] = rf_train['overview'].str.split().str.len()\n",
        "# rf_train.drop('overview', axis = 1, inplace = True)\n",
        "# rf_train.loc[rf_train['overview_wordcount'].isnull() == True, 'overview_wordcount'] = 0\n",
        "\n",
        "# rf_test['overview_wordcount'] = rf_test['overview'].str.split().str.len()\n",
        "# rf_test.drop('overview', axis = 1, inplace = True)\n",
        "# rf_test.loc[rf_test['overview_wordcount'].isnull() == True, 'overview_wordcount'] = 0\n",
        "\n",
        "# Feature Interactions\n",
        "rf_train['_budget_runtime_ratio'] = np.round(rf_train['budget']/rf_train['runtime'], 2)\n",
        "rf_train['_budget_year_ratio'] = np.round(rf_train['budget']/(rf_train['release_year']*rf_train['release_year']), 2)\n",
        "\n",
        "rf_test['_budget_runtime_ratio'] = np.round(rf_test['budget']/rf_test['runtime'], 2)\n",
        "rf_test['_budget_year_ratio'] = np.round(rf_test['budget']/(rf_test['release_year']*rf_test['release_year']), 2)\n"
      ],
      "execution_count": 0,
      "outputs": []
    },
    {
      "cell_type": "code",
      "metadata": {
        "id": "mGY9x4mYfiSr",
        "colab_type": "code",
        "outputId": "7205a778-625a-48a5-f3c3-b45a8fa606d2",
        "colab": {
          "base_uri": "https://localhost:8080/",
          "height": 215
        }
      },
      "source": [
        "rf_train.head()"
      ],
      "execution_count": 51,
      "outputs": [
        {
          "output_type": "execute_result",
          "data": {
            "text/html": [
              "<div>\n",
              "<style scoped>\n",
              "    .dataframe tbody tr th:only-of-type {\n",
              "        vertical-align: middle;\n",
              "    }\n",
              "\n",
              "    .dataframe tbody tr th {\n",
              "        vertical-align: top;\n",
              "    }\n",
              "\n",
              "    .dataframe thead th {\n",
              "        text-align: right;\n",
              "    }\n",
              "</style>\n",
              "<table border=\"1\" class=\"dataframe\">\n",
              "  <thead>\n",
              "    <tr style=\"text-align: right;\">\n",
              "      <th></th>\n",
              "      <th>budget</th>\n",
              "      <th>status</th>\n",
              "      <th>homepage</th>\n",
              "      <th>original_language</th>\n",
              "      <th>runtime</th>\n",
              "      <th>revenue</th>\n",
              "      <th>budget_is_median</th>\n",
              "      <th>runtime_is_median</th>\n",
              "      <th>release_day_of_week</th>\n",
              "      <th>release_day_of_year</th>\n",
              "      <th>release_month</th>\n",
              "      <th>release_year</th>\n",
              "      <th>release_day</th>\n",
              "      <th>release_week</th>\n",
              "      <th>production_companies</th>\n",
              "      <th>production_countries</th>\n",
              "      <th>Keywords</th>\n",
              "      <th>belongs_to_collection</th>\n",
              "      <th>collection_name</th>\n",
              "      <th>_budget_runtime_ratio</th>\n",
              "      <th>_budget_year_ratio</th>\n",
              "    </tr>\n",
              "  </thead>\n",
              "  <tbody>\n",
              "    <tr>\n",
              "      <th>0</th>\n",
              "      <td>14000000.0</td>\n",
              "      <td>1</td>\n",
              "      <td>1</td>\n",
              "      <td>10</td>\n",
              "      <td>93.0</td>\n",
              "      <td>16.326300</td>\n",
              "      <td>0</td>\n",
              "      <td>0</td>\n",
              "      <td>4</td>\n",
              "      <td>51</td>\n",
              "      <td>2</td>\n",
              "      <td>2015</td>\n",
              "      <td>20</td>\n",
              "      <td>8</td>\n",
              "      <td>3</td>\n",
              "      <td>1</td>\n",
              "      <td>4</td>\n",
              "      <td>1</td>\n",
              "      <td>282</td>\n",
              "      <td>150537.63</td>\n",
              "      <td>3.45</td>\n",
              "    </tr>\n",
              "    <tr>\n",
              "      <th>1</th>\n",
              "      <td>40000000.0</td>\n",
              "      <td>1</td>\n",
              "      <td>1</td>\n",
              "      <td>10</td>\n",
              "      <td>113.0</td>\n",
              "      <td>18.370959</td>\n",
              "      <td>0</td>\n",
              "      <td>0</td>\n",
              "      <td>4</td>\n",
              "      <td>219</td>\n",
              "      <td>8</td>\n",
              "      <td>2004</td>\n",
              "      <td>6</td>\n",
              "      <td>32</td>\n",
              "      <td>1</td>\n",
              "      <td>1</td>\n",
              "      <td>4</td>\n",
              "      <td>1</td>\n",
              "      <td>641</td>\n",
              "      <td>353982.30</td>\n",
              "      <td>9.96</td>\n",
              "    </tr>\n",
              "    <tr>\n",
              "      <th>2</th>\n",
              "      <td>3300000.0</td>\n",
              "      <td>1</td>\n",
              "      <td>1</td>\n",
              "      <td>10</td>\n",
              "      <td>105.0</td>\n",
              "      <td>16.387512</td>\n",
              "      <td>0</td>\n",
              "      <td>0</td>\n",
              "      <td>4</td>\n",
              "      <td>283</td>\n",
              "      <td>10</td>\n",
              "      <td>2014</td>\n",
              "      <td>10</td>\n",
              "      <td>41</td>\n",
              "      <td>3</td>\n",
              "      <td>1</td>\n",
              "      <td>12</td>\n",
              "      <td>0</td>\n",
              "      <td>1</td>\n",
              "      <td>31428.57</td>\n",
              "      <td>0.81</td>\n",
              "    </tr>\n",
              "    <tr>\n",
              "      <th>3</th>\n",
              "      <td>1200000.0</td>\n",
              "      <td>1</td>\n",
              "      <td>1</td>\n",
              "      <td>16</td>\n",
              "      <td>122.0</td>\n",
              "      <td>16.588099</td>\n",
              "      <td>0</td>\n",
              "      <td>0</td>\n",
              "      <td>4</td>\n",
              "      <td>69</td>\n",
              "      <td>3</td>\n",
              "      <td>2012</td>\n",
              "      <td>9</td>\n",
              "      <td>10</td>\n",
              "      <td>0</td>\n",
              "      <td>1</td>\n",
              "      <td>7</td>\n",
              "      <td>0</td>\n",
              "      <td>1</td>\n",
              "      <td>9836.07</td>\n",
              "      <td>0.30</td>\n",
              "    </tr>\n",
              "    <tr>\n",
              "      <th>4</th>\n",
              "      <td>16000000.0</td>\n",
              "      <td>1</td>\n",
              "      <td>1</td>\n",
              "      <td>24</td>\n",
              "      <td>118.0</td>\n",
              "      <td>15.182615</td>\n",
              "      <td>1</td>\n",
              "      <td>0</td>\n",
              "      <td>3</td>\n",
              "      <td>36</td>\n",
              "      <td>2</td>\n",
              "      <td>2009</td>\n",
              "      <td>5</td>\n",
              "      <td>6</td>\n",
              "      <td>0</td>\n",
              "      <td>1</td>\n",
              "      <td>0</td>\n",
              "      <td>0</td>\n",
              "      <td>1</td>\n",
              "      <td>135593.22</td>\n",
              "      <td>3.96</td>\n",
              "    </tr>\n",
              "  </tbody>\n",
              "</table>\n",
              "</div>"
            ],
            "text/plain": [
              "       budget  status  ...  _budget_runtime_ratio  _budget_year_ratio\n",
              "0  14000000.0       1  ...              150537.63                3.45\n",
              "1  40000000.0       1  ...              353982.30                9.96\n",
              "2   3300000.0       1  ...               31428.57                0.81\n",
              "3   1200000.0       1  ...                9836.07                0.30\n",
              "4  16000000.0       1  ...              135593.22                3.96\n",
              "\n",
              "[5 rows x 21 columns]"
            ]
          },
          "metadata": {
            "tags": []
          },
          "execution_count": 51
        }
      ]
    },
    {
      "cell_type": "code",
      "metadata": {
        "id": "eS1Qs2bzfpC5",
        "colab_type": "code",
        "colab": {}
      },
      "source": [
        "X_train, X_valid, y_train, y_valid = train_test_split(\n",
        "    rf_train.drop('revenue', axis = 1), rf_train['revenue'], \n",
        "    test_size=0.1, \n",
        "    random_state=42\n",
        ")\n",
        "\n",
        "def rmse(y_pred, y_true):\n",
        "    return np.sqrt(mean_squared_error(y_pred, y_true))\n",
        "\n",
        "def print_rf_score(model):\n",
        "    print(f'Train R2:   {model.score(X_train, y_train)}')\n",
        "    print(f'Valid R2:   {model.score(X_valid, y_valid)}')\n",
        "    print(f'Train RMSE: {rmse(model.predict(X_train), y_train)}')\n",
        "    print(f'Valid RMSE: {rmse(model.predict(X_valid), y_valid)}')\n"
      ],
      "execution_count": 0,
      "outputs": []
    },
    {
      "cell_type": "code",
      "metadata": {
        "id": "ff0quwVWftgZ",
        "colab_type": "code",
        "outputId": "3e52f641-ac45-4c44-f5ce-cca0e3af1a94",
        "colab": {
          "base_uri": "https://localhost:8080/",
          "height": 178
        }
      },
      "source": [
        "rf = RandomForestRegressor(n_jobs = -1, oob_score = True, random_state = 42)\n",
        "rf.fit(X_train, y_train)\n",
        "print_rf_score(rf)"
      ],
      "execution_count": 53,
      "outputs": [
        {
          "output_type": "stream",
          "text": [
            "/usr/local/lib/python3.6/dist-packages/sklearn/ensemble/forest.py:245: FutureWarning: The default value of n_estimators will change from 10 in version 0.20 to 100 in 0.22.\n",
            "  \"10 in version 0.20 to 100 in 0.22.\", FutureWarning)\n",
            "/usr/local/lib/python3.6/dist-packages/sklearn/ensemble/forest.py:737: UserWarning: Some inputs do not have OOB scores. This probably means too few trees were used to compute any reliable oob estimates.\n",
            "  warn(\"Some inputs do not have OOB scores. \"\n"
          ],
          "name": "stderr"
        },
        {
          "output_type": "stream",
          "text": [
            "Train R2:   0.8961283834227805\n",
            "Valid R2:   0.4452067785078704\n",
            "Train RMSE: 0.9869328272773769\n",
            "Valid RMSE: 2.259549149363406\n"
          ],
          "name": "stdout"
        }
      ]
    },
    {
      "cell_type": "code",
      "metadata": {
        "id": "rpt6uEHDCBop",
        "colab_type": "code",
        "outputId": "5e7ca6c4-399e-4dab-c527-16e827759ae2",
        "colab": {
          "base_uri": "https://localhost:8080/",
          "height": 34
        }
      },
      "source": [
        "rf.oob_score_"
      ],
      "execution_count": 54,
      "outputs": [
        {
          "output_type": "execute_result",
          "data": {
            "text/plain": [
              "-0.017655963560303523"
            ]
          },
          "metadata": {
            "tags": []
          },
          "execution_count": 54
        }
      ]
    },
    {
      "cell_type": "code",
      "metadata": {
        "id": "FRzDLVg9hV5t",
        "colab_type": "code",
        "outputId": "572ad066-a1db-4b87-ff9e-b15e870f4535",
        "colab": {
          "base_uri": "https://localhost:8080/",
          "height": 105
        }
      },
      "source": [
        "rf = RandomForestRegressor(\n",
        "    n_estimators = 20, \n",
        "    n_jobs = -1, \n",
        "    oob_score = True, \n",
        "    random_state = 42\n",
        ")\n",
        "rf.fit(X_train, y_train)\n",
        "print_rf_score(rf)\n",
        "print(f'OOB Score:  {rf.oob_score_}')"
      ],
      "execution_count": 55,
      "outputs": [
        {
          "output_type": "stream",
          "text": [
            "Train R2:   0.9150903141178083\n",
            "Valid R2:   0.4829591302533944\n",
            "Train RMSE: 0.8923141223129105\n",
            "Valid RMSE: 2.181316357521863\n",
            "OOB Score:  0.40228443776421374\n"
          ],
          "name": "stdout"
        }
      ]
    },
    {
      "cell_type": "code",
      "metadata": {
        "id": "7silcNW0huLd",
        "colab_type": "code",
        "outputId": "27503d07-f0da-40a4-8297-36b1781cc18d",
        "colab": {
          "base_uri": "https://localhost:8080/",
          "height": 105
        }
      },
      "source": [
        "rf = RandomForestRegressor(\n",
        "    n_estimators = 20, \n",
        "    min_samples_leaf = 4, \n",
        "    max_features = 0.3, \n",
        "    n_jobs = -1, \n",
        "    oob_score = True, \n",
        "    random_state = 42\n",
        ")\n",
        "rf.fit(X_train, y_train)\n",
        "print_rf_score(rf)\n",
        "print(f'OOB Score:  {rf.oob_score_}')"
      ],
      "execution_count": 56,
      "outputs": [
        {
          "output_type": "stream",
          "text": [
            "Train R2:   0.7362579302250735\n",
            "Valid R2:   0.5173009895148907\n",
            "Train RMSE: 1.572638322157841\n",
            "Valid RMSE: 2.1076302521453716\n",
            "OOB Score:  0.4366568991229449\n"
          ],
          "name": "stdout"
        }
      ]
    },
    {
      "cell_type": "code",
      "metadata": {
        "id": "IvDjOBPBzzPe",
        "colab_type": "code",
        "outputId": "e37c0581-0d45-4375-8be1-eab84b3835a7",
        "colab": {
          "base_uri": "https://localhost:8080/",
          "height": 422
        }
      },
      "source": [
        "scores = []\n",
        "valid = []\n",
        "train = []\n",
        "for est in range(15,100):\n",
        "  rf = RandomForestRegressor(\n",
        "      n_estimators=est,\n",
        "      min_samples_leaf = 4,\n",
        "      max_features = 0.4,\n",
        "      oob_score = True,\n",
        "      random_state = 42)\n",
        "  rf.fit(X_train, y_train)\n",
        "  train.append(rmse(rf.predict(X_train), y_train))\n",
        "  valid.append(rmse(rf.predict(X_valid), y_valid))\n",
        "  scores.append(rf.oob_score_)\n",
        "plt.plot(range(15,100), scores)\n",
        "plt.legend()\n",
        "plt.xlabel('n_estimators')\n",
        "plt.ylabel('OOB Score')\n",
        "plt.title('OOB Scores')"
      ],
      "execution_count": 57,
      "outputs": [
        {
          "output_type": "stream",
          "text": [
            "/usr/local/lib/python3.6/dist-packages/sklearn/ensemble/forest.py:737: UserWarning: Some inputs do not have OOB scores. This probably means too few trees were used to compute any reliable oob estimates.\n",
            "  warn(\"Some inputs do not have OOB scores. \"\n",
            "/usr/local/lib/python3.6/dist-packages/sklearn/ensemble/forest.py:737: UserWarning: Some inputs do not have OOB scores. This probably means too few trees were used to compute any reliable oob estimates.\n",
            "  warn(\"Some inputs do not have OOB scores. \"\n",
            "No handles with labels found to put in legend.\n"
          ],
          "name": "stderr"
        },
        {
          "output_type": "execute_result",
          "data": {
            "text/plain": [
              "Text(0.5, 1.0, 'OOB Scores')"
            ]
          },
          "metadata": {
            "tags": []
          },
          "execution_count": 57
        },
        {
          "output_type": "display_data",
          "data": {
            "image/png": "[encoded data removed]",
            "text/plain": [
              "<Figure size 432x288 with 1 Axes>"
            ]
          },
          "metadata": {
            "tags": []
          }
        }
      ]
    },
    {
      "cell_type": "code",
      "metadata": {
        "id": "1RcA4FmG8cpN",
        "colab_type": "code",
        "outputId": "ffd347fe-2bce-440a-f579-118136a7fe2c",
        "colab": {
          "base_uri": "https://localhost:8080/",
          "height": 314
        }
      },
      "source": [
        "plt.plot(range(15,100), train)\n",
        "plt.xlabel(\"n_estimators\")\n",
        "plt.ylabel(\"RMSLE\")\n",
        "plt.title(\"Training RMSLE\")"
      ],
      "execution_count": 58,
      "outputs": [
        {
          "output_type": "execute_result",
          "data": {
            "text/plain": [
              "Text(0.5, 1.0, 'Training RMSLE')"
            ]
          },
          "metadata": {
            "tags": []
          },
          "execution_count": 58
        },
        {
          "output_type": "display_data",
          "data": {
            "image/png": "[encoded data removed]",
            "text/plain": [
              "<Figure size 432x288 with 1 Axes>"
            ]
          },
          "metadata": {
            "tags": []
          }
        }
      ]
    },
    {
      "cell_type": "code",
      "metadata": {
        "id": "yxJZ_6_u9cR_",
        "colab_type": "code",
        "outputId": "ef49d9ce-9e9b-4f6b-f1dc-fa64f70ea104",
        "colab": {
          "base_uri": "https://localhost:8080/",
          "height": 314
        }
      },
      "source": [
        "plt.plot(range(15,100), valid)\n",
        "plt.xlabel(\"n_estimators\")\n",
        "plt.ylabel(\"RMSLE\")\n",
        "plt.title(\"Validation RMSLE\")"
      ],
      "execution_count": 59,
      "outputs": [
        {
          "output_type": "execute_result",
          "data": {
            "text/plain": [
              "Text(0.5, 1.0, 'Validation RMSLE')"
            ]
          },
          "metadata": {
            "tags": []
          },
          "execution_count": 59
        },
        {
          "output_type": "display_data",
          "data": {
            "image/png": "[encoded data removed]",
            "text/plain": [
              "<Figure size 432x288 with 1 Axes>"
            ]
          },
          "metadata": {
            "tags": []
          }
        }
      ]
    },
    {
      "cell_type": "code",
      "metadata": {
        "id": "oCNcZcBL7rMI",
        "colab_type": "code",
        "outputId": "5c62c539-3379-4541-a761-b0434eb77c1a",
        "colab": {
          "base_uri": "https://localhost:8080/",
          "height": 140
        }
      },
      "source": [
        "rf = RandomForestRegressor(\n",
        "      n_estimators= 55,\n",
        "      min_samples_leaf = 5,\n",
        "      max_features = 0.3,\n",
        "      oob_score = True,\n",
        "      random_state = 42)\n",
        "rf.fit(X_train, y_train)"
      ],
      "execution_count": 60,
      "outputs": [
        {
          "output_type": "execute_result",
          "data": {
            "text/plain": [
              "RandomForestRegressor(bootstrap=True, criterion='mse', max_depth=None,\n",
              "                      max_features=0.3, max_leaf_nodes=None,\n",
              "                      min_impurity_decrease=0.0, min_impurity_split=None,\n",
              "                      min_samples_leaf=5, min_samples_split=2,\n",
              "                      min_weight_fraction_leaf=0.0, n_estimators=55,\n",
              "                      n_jobs=None, oob_score=True, random_state=42, verbose=0,\n",
              "                      warm_start=False)"
            ]
          },
          "metadata": {
            "tags": []
          },
          "execution_count": 60
        }
      ]
    },
    {
      "cell_type": "code",
      "metadata": {
        "id": "GaeDpuzdxQHq",
        "colab_type": "code",
        "outputId": "49d173e7-438b-4ffb-c8bf-301fefac30a0",
        "colab": {
          "base_uri": "https://localhost:8080/",
          "height": 105
        }
      },
      "source": [
        "print_rf_score(rf)\n",
        "rf.oob_score_"
      ],
      "execution_count": 61,
      "outputs": [
        {
          "output_type": "stream",
          "text": [
            "Train R2:   0.7079180713589741\n",
            "Valid R2:   0.5045315102024543\n",
            "Train RMSE: 1.6549752112149994\n",
            "Valid RMSE: 2.135326251978856\n"
          ],
          "name": "stdout"
        },
        {
          "output_type": "execute_result",
          "data": {
            "text/plain": [
              "0.4795152924149919"
            ]
          },
          "metadata": {
            "tags": []
          },
          "execution_count": 61
        }
      ]
    },
    {
      "cell_type": "code",
      "metadata": {
        "id": "7ktKl60hhzuy",
        "colab_type": "code",
        "colab": {}
      },
      "source": [
        "predictions = np.expm1(rf.predict(rf_test))\n",
        "submission['revenue'] = np.round(predictions)\n",
        "submission.to_csv('submission_simple_rf.csv', index = False)\n"
      ],
      "execution_count": 0,
      "outputs": []
    },
    {
      "cell_type": "code",
      "metadata": {
        "id": "GNkwt7EHD77e",
        "colab_type": "code",
        "colab": {}
      },
      "source": [
        "# np.expm1(rf.predict(X_valid))[0:20]\n",
        "# submission['pred'] = np.round(np.expm1(rf.predict(X_valid)))\n",
        "# submission['actual'] = y_valid"
      ],
      "execution_count": 0,
      "outputs": []
    },
    {
      "cell_type": "code",
      "metadata": {
        "id": "fejvH4gJEVrx",
        "colab_type": "code",
        "outputId": "14aa02e0-4ccb-467d-a951-b38ef9196332",
        "colab": {
          "base_uri": "https://localhost:8080/",
          "height": 228
        }
      },
      "source": [
        "np.expm1(y_valid)"
      ],
      "execution_count": 64,
      "outputs": [
        {
          "output_type": "execute_result",
          "data": {
            "text/plain": [
              "1801     9247881.0\n",
              "1190           7.0\n",
              "1817       33700.0\n",
              "251     10017322.0\n",
              "2505     8910819.0\n",
              "           ...    \n",
              "2497    41954997.0\n",
              "787       253527.0\n",
              "2636    67918658.0\n",
              "2538    15000000.0\n",
              "402         8251.0\n",
              "Name: revenue, Length: 300, dtype: float64"
            ]
          },
          "metadata": {
            "tags": []
          },
          "execution_count": 64
        }
      ]
    },
    {
      "cell_type": "code",
      "metadata": {
        "id": "ai2xa2uqK8s4",
        "colab_type": "code",
        "colab": {}
      },
      "source": [
        "def xgtrain(X_train, X_valid, y_train, y_valid):\n",
        "    regressor = XGBRegressor(\n",
        "        n_estimators = 50000, \n",
        "        learning_rate = 0.001,\n",
        "        max_depth = 6, \n",
        "        subsample = 0.3, \n",
        "        colsample_bytree = 0.2\n",
        "        )\n",
        "    \n",
        "    regressor_ = regressor.fit(\n",
        "        X_train.values, y_train.values, \n",
        "        eval_metric = 'rmse', \n",
        "        eval_set = [\n",
        "            (X_train.values, y_train.values), \n",
        "            (X_valid.values, y_valid.values)\n",
        "        ],\n",
        "        verbose = 1000,\n",
        "        early_stopping_rounds = 500,\n",
        "        )\n",
        "    \n",
        "    return regressor_"
      ],
      "execution_count": 0,
      "outputs": []
    },
    {
      "cell_type": "code",
      "metadata": {
        "id": "ZR0OBfChK_Dx",
        "colab_type": "code",
        "outputId": "6a511d4c-5f86-4cd6-d57b-56d1bbda8d35",
        "colab": {
          "base_uri": "https://localhost:8080/",
          "height": 334
        }
      },
      "source": [
        "regressor_ = xgtrain(X_train, X_valid, y_train, y_valid)\n"
      ],
      "execution_count": 66,
      "outputs": [
        {
          "output_type": "stream",
          "text": [
            "[22:30:11] WARNING: /workspace/src/objective/regression_obj.cu:152: reg:linear is now deprecated in favor of reg:squarederror.\n",
            "[0]\tvalidation_0-rmse:15.7165\tvalidation_1-rmse:16.0153\n",
            "Multiple eval metrics have been passed: 'validation_1-rmse' will be used for early stopping.\n",
            "\n",
            "Will train until validation_1-rmse hasn't improved in 500 rounds.\n",
            "[1000]\tvalidation_0-rmse:6.23061\tvalidation_1-rmse:6.39952\n",
            "[2000]\tvalidation_0-rmse:3.05153\tvalidation_1-rmse:3.17878\n",
            "[3000]\tvalidation_0-rmse:2.17541\tvalidation_1-rmse:2.33118\n",
            "[4000]\tvalidation_0-rmse:1.94648\tvalidation_1-rmse:2.14965\n",
            "[5000]\tvalidation_0-rmse:1.85223\tvalidation_1-rmse:2.10569\n",
            "[6000]\tvalidation_0-rmse:1.78987\tvalidation_1-rmse:2.09117\n",
            "[7000]\tvalidation_0-rmse:1.73876\tvalidation_1-rmse:2.08401\n",
            "[8000]\tvalidation_0-rmse:1.69216\tvalidation_1-rmse:2.08036\n",
            "[9000]\tvalidation_0-rmse:1.65037\tvalidation_1-rmse:2.07758\n",
            "[10000]\tvalidation_0-rmse:1.61016\tvalidation_1-rmse:2.07559\n",
            "Stopping. Best iteration:\n",
            "[10339]\tvalidation_0-rmse:1.59743\tvalidation_1-rmse:2.07505\n",
            "\n"
          ],
          "name": "stdout"
        }
      ]
    },
    {
      "cell_type": "code",
      "metadata": {
        "id": "sU_vLEtBLMqA",
        "colab_type": "code",
        "colab": {}
      },
      "source": [
        "predictions = np.expm1(regressor_.predict(rf_test.values))\n",
        "submission['revenue'] = np.round(predictions)\n",
        "submission.to_csv('submission_simple_rf.csv', index = False)"
      ],
      "execution_count": 0,
      "outputs": []
    },
    {
      "cell_type": "code",
      "metadata": {
        "id": "tIex4VsRMCxs",
        "colab_type": "code",
        "colab": {}
      },
      "source": [
        "predictions = np.expm1(regressor_.predict(rf_test.values)) + np.expm1(rf.predict(rf_test))\n",
        "predictions /= 2\n",
        "submission['revenue'] = np.round(predictions)\n",
        "submission.to_csv('submission_simple_rf.csv', index = False)"
      ],
      "execution_count": 0,
      "outputs": []
    }
  ]
}