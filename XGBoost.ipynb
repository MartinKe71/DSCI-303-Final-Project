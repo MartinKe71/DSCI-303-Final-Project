{
  "nbformat": 4,
  "nbformat_minor": 0,
  "metadata": {
    "colab": {
      "name": "RandomForest.ipynb",
      "provenance": []
    },
    "kernelspec": {
      "name": "python3",
      "display_name": "Python 3"
    }
  },
  "cells": [
    {
      "cell_type": "code",
      "metadata": {
        "id": "NJBsTxkPYFph",
        "colab_type": "code",
        "colab": {}
      },
      "source": [
        "# Data Processing and Cleaning\n",
        "import numpy as np\n",
        "import pandas as pd\n",
        "\n",
        "# Data Visualization\n",
        "import matplotlib.pyplot as plt\n",
        "from mpl_toolkits.mplot3d import axes3d\n",
        "import seaborn as sns\n",
        "\n",
        "# Sklearn\n",
        "from sklearn.preprocessing import LabelEncoder\n",
        "from sklearn.model_selection import train_test_split\n",
        "from sklearn.metrics import mean_squared_error\n",
        "from sklearn.tree import export_graphviz\n",
        "\n",
        "# Modeling\n",
        "from sklearn.linear_model import LinearRegression\n",
        "from sklearn.ensemble import RandomForestRegressor\n",
        "from xgboost import XGBRegressor\n",
        "import lightgbm as lgb\n",
        "\n",
        "#Miscellaneous\n",
        "from tqdm import tqdm_notebook"
      ],
      "execution_count": 0,
      "outputs": []
    },
    {
      "cell_type": "code",
      "metadata": {
        "id": "me4LanRYd3sU",
        "colab_type": "code",
        "colab": {}
      },
      "source": [
        "train = pd.read_csv('train.csv')\n",
        "test = pd.read_csv('test.csv')\n",
        "submission = pd.read_csv('sample_submission.csv')"
      ],
      "execution_count": 0,
      "outputs": []
    },
    {
      "cell_type": "code",
      "metadata": {
        "id": "-a5Xlt9E7oge",
        "colab_type": "code",
        "colab": {}
      },
      "source": [
        ""
      ],
      "execution_count": 0,
      "outputs": []
    },
    {
      "cell_type": "code",
      "metadata": {
        "id": "g4-wIDiz2BvJ",
        "colab_type": "code",
        "outputId": "63adb769-8f7b-4115-9249-75d298bd42b8",
        "colab": {
          "base_uri": "https://localhost:8080/",
          "height": 126
        }
      },
      "source": [
        "\n",
        "#((pd.DataFrame(train.isnull().sum()).T)/len(train))*100\n",
        "#print(pd.DataFrame(test.isnull().sum()).T )\n",
        "\n",
        "\"\"\"\n",
        "train:\n",
        "7 feats with no genre\n",
        "8 with no overview\n",
        "156 without prod com\n",
        "2 without runtime\n",
        "276 witout kewrods\n",
        "13 without cast\n",
        "16 without crew\n",
        "\n",
        "test:\n",
        "16 genre\n",
        "14 overview\n",
        "258 prod coms\n",
        "4 runtime\n",
        "393 keywords\n",
        "13 cast\n",
        "22 crew\n",
        "\"\"\"\n",
        "\n",
        "pd.DataFrame(test.budget.value_counts()).T\n"
      ],
      "execution_count": 3,
      "outputs": [
        {
          "output_type": "execute_result",
          "data": {
            "text/html": [
              "<div>\n",
              "<style scoped>\n",
              "    .dataframe tbody tr th:only-of-type {\n",
              "        vertical-align: middle;\n",
              "    }\n",
              "\n",
              "    .dataframe tbody tr th {\n",
              "        vertical-align: top;\n",
              "    }\n",
              "\n",
              "    .dataframe thead th {\n",
              "        text-align: right;\n",
              "    }\n",
              "</style>\n",
              "<table border=\"1\" class=\"dataframe\">\n",
              "  <thead>\n",
              "    <tr style=\"text-align: right;\">\n",
              "      <th></th>\n",
              "      <th>0</th>\n",
              "      <th>20000000</th>\n",
              "      <th>25000000</th>\n",
              "      <th>15000000</th>\n",
              "      <th>10000000</th>\n",
              "      <th>30000000</th>\n",
              "      <th>40000000</th>\n",
              "      <th>5000000</th>\n",
              "      <th>35000000</th>\n",
              "      <th>50000000</th>\n",
              "      <th>6000000</th>\n",
              "      <th>12000000</th>\n",
              "      <th>3000000</th>\n",
              "      <th>60000000</th>\n",
              "      <th>18000000</th>\n",
              "      <th>4000000</th>\n",
              "      <th>2000000</th>\n",
              "      <th>8000000</th>\n",
              "      <th>70000000</th>\n",
              "      <th>45000000</th>\n",
              "      <th>7000000</th>\n",
              "      <th>1000000</th>\n",
              "      <th>80000000</th>\n",
              "      <th>11000000</th>\n",
              "      <th>14000000</th>\n",
              "      <th>17000000</th>\n",
              "      <th>3500000</th>\n",
              "      <th>9000000</th>\n",
              "      <th>2500000</th>\n",
              "      <th>75000000</th>\n",
              "      <th>22000000</th>\n",
              "      <th>150000000</th>\n",
              "      <th>13000000</th>\n",
              "      <th>55000000</th>\n",
              "      <th>28000000</th>\n",
              "      <th>100000000</th>\n",
              "      <th>16000000</th>\n",
              "      <th>19000000</th>\n",
              "      <th>24000000</th>\n",
              "      <th>6500000</th>\n",
              "      <th>...</th>\n",
              "      <th>9272437</th>\n",
              "      <th>10700000</th>\n",
              "      <th>1103000</th>\n",
              "      <th>17700000</th>\n",
              "      <th>15774948</th>\n",
              "      <th>176000003</th>\n",
              "      <th>4357373</th>\n",
              "      <th>243000</th>\n",
              "      <th>6600000</th>\n",
              "      <th>923000</th>\n",
              "      <th>1920000</th>\n",
              "      <th>27563396</th>\n",
              "      <th>325000</th>\n",
              "      <th>2280000</th>\n",
              "      <th>620000</th>\n",
              "      <th>30250000</th>\n",
              "      <th>1750000</th>\n",
              "      <th>2224000</th>\n",
              "      <th>22500000</th>\n",
              "      <th>26350000</th>\n",
              "      <th>450</th>\n",
              "      <th>139000000</th>\n",
              "      <th>26500000</th>\n",
              "      <th>36500000</th>\n",
              "      <th>16000</th>\n",
              "      <th>103000</th>\n",
              "      <th>58800000</th>\n",
              "      <th>13800000</th>\n",
              "      <th>103000000</th>\n",
              "      <th>707503</th>\n",
              "      <th>439000</th>\n",
              "      <th>5600000</th>\n",
              "      <th>8256269</th>\n",
              "      <th>14800000</th>\n",
              "      <th>8000</th>\n",
              "      <th>947000</th>\n",
              "      <th>390000</th>\n",
              "      <th>2479000</th>\n",
              "      <th>11097000</th>\n",
              "      <th>291000</th>\n",
              "    </tr>\n",
              "  </thead>\n",
              "  <tbody>\n",
              "    <tr>\n",
              "      <th>budget</th>\n",
              "      <td>1211</td>\n",
              "      <td>116</td>\n",
              "      <td>104</td>\n",
              "      <td>100</td>\n",
              "      <td>94</td>\n",
              "      <td>91</td>\n",
              "      <td>73</td>\n",
              "      <td>72</td>\n",
              "      <td>70</td>\n",
              "      <td>68</td>\n",
              "      <td>68</td>\n",
              "      <td>64</td>\n",
              "      <td>61</td>\n",
              "      <td>54</td>\n",
              "      <td>54</td>\n",
              "      <td>54</td>\n",
              "      <td>51</td>\n",
              "      <td>46</td>\n",
              "      <td>46</td>\n",
              "      <td>44</td>\n",
              "      <td>43</td>\n",
              "      <td>42</td>\n",
              "      <td>38</td>\n",
              "      <td>36</td>\n",
              "      <td>36</td>\n",
              "      <td>36</td>\n",
              "      <td>34</td>\n",
              "      <td>33</td>\n",
              "      <td>33</td>\n",
              "      <td>32</td>\n",
              "      <td>32</td>\n",
              "      <td>31</td>\n",
              "      <td>31</td>\n",
              "      <td>31</td>\n",
              "      <td>30</td>\n",
              "      <td>27</td>\n",
              "      <td>27</td>\n",
              "      <td>24</td>\n",
              "      <td>23</td>\n",
              "      <td>22</td>\n",
              "      <td>...</td>\n",
              "      <td>1</td>\n",
              "      <td>1</td>\n",
              "      <td>1</td>\n",
              "      <td>1</td>\n",
              "      <td>1</td>\n",
              "      <td>1</td>\n",
              "      <td>1</td>\n",
              "      <td>1</td>\n",
              "      <td>1</td>\n",
              "      <td>1</td>\n",
              "      <td>1</td>\n",
              "      <td>1</td>\n",
              "      <td>1</td>\n",
              "      <td>1</td>\n",
              "      <td>1</td>\n",
              "      <td>1</td>\n",
              "      <td>1</td>\n",
              "      <td>1</td>\n",
              "      <td>1</td>\n",
              "      <td>1</td>\n",
              "      <td>1</td>\n",
              "      <td>1</td>\n",
              "      <td>1</td>\n",
              "      <td>1</td>\n",
              "      <td>1</td>\n",
              "      <td>1</td>\n",
              "      <td>1</td>\n",
              "      <td>1</td>\n",
              "      <td>1</td>\n",
              "      <td>1</td>\n",
              "      <td>1</td>\n",
              "      <td>1</td>\n",
              "      <td>1</td>\n",
              "      <td>1</td>\n",
              "      <td>1</td>\n",
              "      <td>1</td>\n",
              "      <td>1</td>\n",
              "      <td>1</td>\n",
              "      <td>1</td>\n",
              "      <td>1</td>\n",
              "    </tr>\n",
              "  </tbody>\n",
              "</table>\n",
              "<p>1 rows × 511 columns</p>\n",
              "</div>"
            ],
            "text/plain": [
              "        0         20000000  25000000  ...  2479000   11097000  291000  \n",
              "budget      1211       116       104  ...         1         1         1\n",
              "\n",
              "[1 rows x 511 columns]"
            ]
          },
          "metadata": {
            "tags": []
          },
          "execution_count": 3
        }
      ]
    },
    {
      "cell_type": "code",
      "metadata": {
        "id": "p0A8Yqh2jcYP",
        "colab_type": "code",
        "colab": {}
      },
      "source": [
        "train.loc[train['id'] == 16,'revenue'] = 192864         \n",
        "train.loc[train['id'] == 90,'budget'] = 30000000                  \n",
        "train.loc[train['id'] == 118,'budget'] = 60000000       \n",
        "train.loc[train['id'] == 149,'budget'] = 18000000       \n",
        "train.loc[train['id'] == 313,'revenue'] = 12000000       \n",
        "train.loc[train['id'] == 451,'revenue'] = 12000000      \n",
        "train.loc[train['id'] == 464,'budget'] = 20000000       \n",
        "train.loc[train['id'] == 470,'budget'] = 13000000       \n",
        "train.loc[train['id'] == 513,'budget'] = 930000         \n",
        "train.loc[train['id'] == 797,'budget'] = 8000000        \n",
        "train.loc[train['id'] == 819,'budget'] = 90000000       \n",
        "train.loc[train['id'] == 850,'budget'] = 90000000       \n",
        "train.loc[train['id'] == 1007,'budget'] = 2              \n",
        "train.loc[train['id'] == 1112,'budget'] = 7500000       \n",
        "train.loc[train['id'] == 1131,'budget'] = 4300000        \n",
        "train.loc[train['id'] == 1359,'budget'] = 10000000       \n",
        "train.loc[train['id'] == 1542,'budget'] = 1             \n",
        "train.loc[train['id'] == 1570,'budget'] = 15800000       \n",
        "train.loc[train['id'] == 1571,'budget'] = 4000000        \n",
        "train.loc[train['id'] == 1714,'budget'] = 46000000       \n",
        "train.loc[train['id'] == 1721,'budget'] = 17500000       \n",
        "train.loc[train['id'] == 1865,'revenue'] = 25000000      \n",
        "train.loc[train['id'] == 1885,'budget'] = 12             \n",
        "train.loc[train['id'] == 2091,'budget'] = 10             \n",
        "train.loc[train['id'] == 2268,'budget'] = 17500000       \n",
        "train.loc[train['id'] == 2491,'budget'] = 6              \n",
        "train.loc[train['id'] == 2602,'budget'] = 31000000       \n",
        "train.loc[train['id'] == 2612,'budget'] = 15000000       \n",
        "train.loc[train['id'] == 2696,'budget'] = 10000000      \n",
        "train.loc[train['id'] == 2801,'budget'] = 10000000       \n",
        "train.loc[train['id'] == 335,'budget'] = 2 \n",
        "train.loc[train['id'] == 348,'budget'] = 12\n",
        "train.loc[train['id'] == 470,'budget'] = 13000000 \n",
        "train.loc[train['id'] == 513,'budget'] = 1100000\n",
        "train.loc[train['id'] == 640,'budget'] = 6 \n",
        "train.loc[train['id'] == 696,'budget'] = 1\n",
        "train.loc[train['id'] == 797,'budget'] = 8000000 \n",
        "train.loc[train['id'] == 850,'budget'] = 1500000\n",
        "train.loc[train['id'] == 1199,'budget'] = 5 \n",
        "train.loc[train['id'] == 1282,'budget'] = 9              \n",
        "train.loc[train['id'] == 1347,'budget'] = 1\n",
        "train.loc[train['id'] == 1755,'budget'] = 2\n",
        "train.loc[train['id'] == 1801,'budget'] = 5\n",
        "train.loc[train['id'] == 1918,'budget'] = 592 \n",
        "train.loc[train['id'] == 2033,'budget'] = 4\n",
        "train.loc[train['id'] == 2118,'budget'] = 344 \n",
        "train.loc[train['id'] == 2252,'budget'] = 130\n",
        "train.loc[train['id'] == 2256,'budget'] = 1 \n",
        "train.loc[train['id'] == 2696,'budget'] = 10000000"
      ],
      "execution_count": 0,
      "outputs": []
    },
    {
      "cell_type": "code",
      "metadata": {
        "id": "YWxwiMAijdbT",
        "colab_type": "code",
        "colab": {}
      },
      "source": [
        "test.loc[test['id'] == 3033,'budget'] = 250 \n",
        "test.loc[test['id'] == 3051,'budget'] = 50\n",
        "test.loc[test['id'] == 3084,'budget'] = 337\n",
        "test.loc[test['id'] == 3224,'budget'] = 4  \n",
        "test.loc[test['id'] == 3594,'budget'] = 25  \n",
        "test.loc[test['id'] == 3619,'budget'] = 500  \n",
        "test.loc[test['id'] == 3831,'budget'] = 3  \n",
        "test.loc[test['id'] == 3935,'budget'] = 500  \n",
        "test.loc[test['id'] == 4049,'budget'] = 995946 \n",
        "test.loc[test['id'] == 4424,'budget'] = 3  \n",
        "test.loc[test['id'] == 4460,'budget'] = 8  \n",
        "test.loc[test['id'] == 4555,'budget'] = 1200000 \n",
        "test.loc[test['id'] == 4624,'budget'] = 30 \n",
        "test.loc[test['id'] == 4645,'budget'] = 500 \n",
        "test.loc[test['id'] == 4709,'budget'] = 450 \n",
        "test.loc[test['id'] == 4839,'budget'] = 7\n",
        "test.loc[test['id'] == 3125,'budget'] = 25 \n",
        "test.loc[test['id'] == 3142,'budget'] = 1\n",
        "test.loc[test['id'] == 3201,'budget'] = 450\n",
        "test.loc[test['id'] == 3222,'budget'] = 6\n",
        "test.loc[test['id'] == 3545,'budget'] = 38\n",
        "test.loc[test['id'] == 3670,'budget'] = 18\n",
        "test.loc[test['id'] == 3792,'budget'] = 19\n",
        "test.loc[test['id'] == 3881,'budget'] = 7\n",
        "test.loc[test['id'] == 3969,'budget'] = 400\n",
        "test.loc[test['id'] == 4196,'budget'] = 6\n",
        "test.loc[test['id'] == 4221,'budget'] = 11\n",
        "test.loc[test['id'] == 4222,'budget'] = 500\n",
        "test.loc[test['id'] == 4285,'budget'] = 11\n",
        "test.loc[test['id'] == 4319,'budget'] = 1\n",
        "test.loc[test['id'] == 4639,'budget'] = 10\n",
        "test.loc[test['id'] == 4719,'budget'] = 45\n",
        "test.loc[test['id'] == 4822,'budget'] = 22\n",
        "test.loc[test['id'] == 4829,'budget'] = 20\n",
        "test.loc[test['id'] == 4969,'budget'] = 20\n",
        "test.loc[test['id'] == 5021,'budget'] = 40 \n",
        "test.loc[test['id'] == 5035,'budget'] = 1 \n",
        "test.loc[test['id'] == 5063,'budget'] = 14 \n",
        "test.loc[test['id'] == 5119,'budget'] = 2 \n",
        "test.loc[test['id'] == 5214,'budget'] = 30 \n",
        "test.loc[test['id'] == 5221,'budget'] = 50 \n",
        "test.loc[test['id'] == 4903,'budget'] = 15\n",
        "test.loc[test['id'] == 4983,'budget'] = 3\n",
        "test.loc[test['id'] == 5102,'budget'] = 28\n",
        "test.loc[test['id'] == 5217,'budget'] = 75\n",
        "test.loc[test['id'] == 5224,'budget'] = 3 \n",
        "test.loc[test['id'] == 5469,'budget'] = 20 \n",
        "test.loc[test['id'] == 5840,'budget'] = 1 \n",
        "test.loc[test['id'] == 5960,'budget'] = 30\n",
        "test.loc[test['id'] == 6506,'budget'] = 11 \n",
        "test.loc[test['id'] == 6553,'budget'] = 280\n",
        "test.loc[test['id'] == 6561,'budget'] = 7\n",
        "test.loc[test['id'] == 6582,'budget'] = 218\n",
        "test.loc[test['id'] == 6638,'budget'] = 5\n",
        "test.loc[test['id'] == 6749,'budget'] = 8 \n",
        "test.loc[test['id'] == 6759,'budget'] = 50 \n",
        "test.loc[test['id'] == 6856,'budget'] = 10\n",
        "test.loc[test['id'] == 6858,'budget'] =  100\n",
        "test.loc[test['id'] == 6876,'budget'] =  250\n",
        "test.loc[test['id'] == 6972,'budget'] = 1\n",
        "test.loc[test['id'] == 7079,'budget'] = 8000000\n",
        "test.loc[test['id'] == 7150,'budget'] = 118\n",
        "test.loc[test['id'] == 6506,'budget'] = 118\n",
        "test.loc[test['id'] == 7225,'budget'] = 6\n",
        "test.loc[test['id'] == 7231,'budget'] = 85\n",
        "test.loc[test['id'] == 5222,'budget'] = 5\n",
        "test.loc[test['id'] == 5322,'budget'] = 90\n",
        "test.loc[test['id'] == 5350,'budget'] = 70\n",
        "test.loc[test['id'] == 5378,'budget'] = 10\n",
        "test.loc[test['id'] == 5545,'budget'] = 80\n",
        "test.loc[test['id'] == 5810,'budget'] = 8\n",
        "test.loc[test['id'] == 5926,'budget'] = 300\n",
        "test.loc[test['id'] == 5927,'budget'] = 4\n",
        "test.loc[test['id'] == 5986,'budget'] = 1\n",
        "test.loc[test['id'] == 6053,'budget'] = 20\n",
        "test.loc[test['id'] == 6104,'budget'] = 1\n",
        "test.loc[test['id'] == 6130,'budget'] = 30\n",
        "test.loc[test['id'] == 6301,'budget'] = 150\n",
        "test.loc[test['id'] == 6276,'budget'] = 100\n",
        "test.loc[test['id'] == 6473,'budget'] = 100\n",
        "test.loc[test['id'] == 6842,'budget'] = 30"
      ],
      "execution_count": 0,
      "outputs": []
    },
    {
      "cell_type": "code",
      "metadata": {
        "id": "7n9qQPB5eIj4",
        "colab_type": "code",
        "colab": {}
      },
      "source": [
        "train['revenue'] = np.log1p(train['revenue'])\n"
      ],
      "execution_count": 0,
      "outputs": []
    },
    {
      "cell_type": "code",
      "metadata": {
        "id": "oHpdYuAzeMrt",
        "colab_type": "code",
        "colab": {}
      },
      "source": [
        "rf_cols = ['budget', 'status', 'homepage','original_language', 'release_date', 'runtime', 'revenue']\n",
        "rf_train = train[rf_cols].copy()\n",
        "rf_cols.remove('revenue')\n",
        "rf_test = test[rf_cols].copy()"
      ],
      "execution_count": 0,
      "outputs": []
    },
    {
      "cell_type": "code",
      "metadata": {
        "id": "KGk70TkreRtE",
        "colab_type": "code",
        "colab": {}
      },
      "source": [
        "median_budget = rf_train[rf_train['budget'] > 0]['budget'].median()\n",
        "def fill_budget(df, median_budget):\n",
        "    df['budget_is_median'] = 0\n",
        "    df.loc[df.budget == 0, 'budget_is_median'] = 1\n",
        "    df.loc[df.budget == 0, 'budget'] = median_budget\n",
        "    return df\n",
        "\n",
        "rf_train = fill_budget(rf_train, median_budget)\n",
        "rf_test = fill_budget(rf_test, median_budget)"
      ],
      "execution_count": 0,
      "outputs": []
    },
    {
      "cell_type": "code",
      "metadata": {
        "id": "VtDaHdgNeXSi",
        "colab_type": "code",
        "colab": {}
      },
      "source": [
        "rf_combined = pd.concat([rf_train, rf_test], sort=False)\n",
        "le = LabelEncoder()\n",
        "le.fit(rf_combined['original_language'])\n",
        "rf_train['original_language'] = le.transform(rf_train['original_language'])\n",
        "rf_test['original_language'] = le.transform(rf_test['original_language'])"
      ],
      "execution_count": 0,
      "outputs": []
    },
    {
      "cell_type": "code",
      "metadata": {
        "id": "clDo9a4KecAH",
        "colab_type": "code",
        "colab": {}
      },
      "source": [
        "rf_test.loc[rf_test['status'].isnull() == True, 'status'] = 'Released'\n",
        "rf_combined.loc[rf_combined['status'].isnull() == True, 'status'] = 'Released'\n",
        "le = LabelEncoder()\n",
        "le.fit(rf_combined['status'])\n",
        "rf_train['status'] = le.transform(rf_train['status'])\n",
        "rf_test['status'] = le.transform(rf_test['status'])"
      ],
      "execution_count": 0,
      "outputs": []
    },
    {
      "cell_type": "code",
      "metadata": {
        "id": "H4FEZ5IcegP-",
        "colab_type": "code",
        "colab": {}
      },
      "source": [
        "rf_train.loc[rf_train['homepage'].isnull() == True, 'homepage'] = 0\n",
        "rf_train.loc[rf_train['homepage'].isnull() == False, 'homepage'] = 1\n",
        "\n",
        "rf_test.loc[rf_test['homepage'].isnull() == True, 'homepage'] = 0\n",
        "rf_test.loc[rf_test['homepage'].isnull() == False, 'homepage'] = 1\n"
      ],
      "execution_count": 0,
      "outputs": []
    },
    {
      "cell_type": "code",
      "metadata": {
        "id": "uEap0nKIemZ3",
        "colab_type": "code",
        "colab": {}
      },
      "source": [
        "median_runtime = rf_train['runtime'].median()\n",
        "def fill_runtime(df, median_runtime):\n",
        "    df['runtime_is_median'] = 0\n",
        "    df.loc[df.runtime == 0, 'runtime_is_median'] = 1\n",
        "    df.loc[df.runtime.isnull() == True, 'runtime_is_median'] = 1\n",
        "    df.loc[df.runtime == 0, 'runtime'] = median_runtime\n",
        "    df.loc[df.runtime.isnull() == True, 'runtime'] = median_runtime\n",
        "    return df\n",
        "\n",
        "rf_train = fill_runtime(rf_train, median_runtime)\n",
        "rf_test = fill_runtime(rf_test, median_runtime)"
      ],
      "execution_count": 0,
      "outputs": []
    },
    {
      "cell_type": "code",
      "metadata": {
        "id": "_QvtpHKAer2z",
        "colab_type": "code",
        "colab": {}
      },
      "source": [
        "from datetime import timedelta, date"
      ],
      "execution_count": 0,
      "outputs": []
    },
    {
      "cell_type": "code",
      "metadata": {
        "id": "STI-ZdoXeuWP",
        "colab_type": "code",
        "colab": {}
      },
      "source": [
        "rf_test.loc[rf_test['release_date'].isnull() == True, 'release_date'] = '10/19/2001'\n",
        "test.loc[test['release_date'].isnull() == True, 'release_date'] = '10/19/2001'\n",
        "def add_date_features(df, col, prefix):\n",
        "    df[col] = pd.to_datetime(df[col])\n",
        "    future = df[col] > pd.Timestamp(year=2017,month=12,day=31)\n",
        "    df.loc[future, col] -= timedelta(days=365.25*100)\n",
        "    \n",
        "    df[prefix+'_day_of_week'] = df[col].dt.dayofweek\n",
        "    df[prefix+'_day_of_year'] = df[col].dt.dayofyear\n",
        "    df[prefix+'_month'] = df[col].dt.month\n",
        "    df[prefix+'_year'] = df[col].dt.year\n",
        "    df[prefix+'_day'] = df[col].dt.day\n",
        "    # df[prefix+'_is_year_end'] = df[col].dt.is_year_end\n",
        "    # df[prefix+'_is_year_start'] = df[col].dt.is_year_start\n",
        "    df[prefix+'_week'] = df[col].dt.week\n",
        "    # df[prefix+'_quarter'] = df[col].dt.quarter    \n",
        "    \n",
        "    df.drop(col, axis = 1, inplace = True)\n",
        "\n",
        "    return df\n",
        "\n",
        "rf_train = add_date_features(rf_train, 'release_date', 'release')\n",
        "rf_test = add_date_features(rf_test, 'release_date', 'release')"
      ],
      "execution_count": 0,
      "outputs": []
    },
    {
      "cell_type": "code",
      "metadata": {
        "id": "r8NMsoTleyE3",
        "colab_type": "code",
        "colab": {}
      },
      "source": [
        "def get_dictionary(s):\n",
        "    try:\n",
        "        d = eval(s)\n",
        "    except:\n",
        "        d = {}\n",
        "    return d\n",
        "\n",
        "json_cols = ['production_companies', 'production_countries', 'Keywords', 'belongs_to_collection']\n",
        "for col in json_cols:\n",
        "    rf_train[col] = train[col]\n",
        "    rf_train[col] = rf_train[col].apply(lambda x: get_dictionary(x))\n",
        "    rf_test[col] = test[col]\n",
        "    rf_test[col] = rf_test[col].apply(lambda x: get_dictionary(x))"
      ],
      "execution_count": 0,
      "outputs": []
    },
    {
      "cell_type": "code",
      "metadata": {
        "id": "_9V6lQgffeTd",
        "colab_type": "code",
        "colab": {}
      },
      "source": [
        "for col in json_cols:\n",
        "    # Get name of collection movie belongs to\n",
        "    if col == 'belongs_to_collection':\n",
        "        rf_train['collection_name'] = rf_train[col].apply(lambda row: row[0]['name'] if row != {} else '0')\n",
        "        rf_test['collection_name'] = rf_test[col].apply(lambda row: row[0]['name'] if row != {} else '0')\n",
        "        rf_combined = pd.concat([rf_train, rf_test], sort=False)\n",
        "        le = LabelEncoder()\n",
        "        le.fit(rf_combined['collection_name'])\n",
        "        rf_train['collection_name'] = le.transform(rf_train['collection_name'])\n",
        "        rf_test['collection_name'] = le.transform(rf_test['collection_name'])    \n",
        "    \n",
        "    # Size of feature\n",
        "    rf_train[col] = rf_train[col].apply(lambda row: 0 if row is None else len(row))\n",
        "    rf_test[col] = rf_test[col].apply(lambda row: 0 if row is None else len(row))\n",
        "\n",
        "# # Word count for overview\n",
        "# rf_train['overview_wordcount'] = rf_train['overview'].str.split().str.len()\n",
        "# rf_train.drop('overview', axis = 1, inplace = True)\n",
        "# rf_train.loc[rf_train['overview_wordcount'].isnull() == True, 'overview_wordcount'] = 0\n",
        "\n",
        "# rf_test['overview_wordcount'] = rf_test['overview'].str.split().str.len()\n",
        "# rf_test.drop('overview', axis = 1, inplace = True)\n",
        "# rf_test.loc[rf_test['overview_wordcount'].isnull() == True, 'overview_wordcount'] = 0\n",
        "\n",
        "# Feature Interactions\n",
        "rf_train['_budget_runtime_ratio'] = np.round(rf_train['budget']/rf_train['runtime'], 2)\n",
        "rf_train['_budget_year_ratio'] = np.round(rf_train['budget']/(rf_train['release_year']*rf_train['release_year']), 2)\n",
        "\n",
        "rf_test['_budget_runtime_ratio'] = np.round(rf_test['budget']/rf_test['runtime'], 2)\n",
        "rf_test['_budget_year_ratio'] = np.round(rf_test['budget']/(rf_test['release_year']*rf_test['release_year']), 2)\n"
      ],
      "execution_count": 0,
      "outputs": []
    },
    {
      "cell_type": "code",
      "metadata": {
        "id": "mGY9x4mYfiSr",
        "colab_type": "code",
        "outputId": "9a167636-ef57-4ea6-caa5-62e284ad623d",
        "colab": {
          "base_uri": "https://localhost:8080/",
          "height": 215
        }
      },
      "source": [
        "rf_train.head()"
      ],
      "execution_count": 17,
      "outputs": [
        {
          "output_type": "execute_result",
          "data": {
            "text/html": [
              "<div>\n",
              "<style scoped>\n",
              "    .dataframe tbody tr th:only-of-type {\n",
              "        vertical-align: middle;\n",
              "    }\n",
              "\n",
              "    .dataframe tbody tr th {\n",
              "        vertical-align: top;\n",
              "    }\n",
              "\n",
              "    .dataframe thead th {\n",
              "        text-align: right;\n",
              "    }\n",
              "</style>\n",
              "<table border=\"1\" class=\"dataframe\">\n",
              "  <thead>\n",
              "    <tr style=\"text-align: right;\">\n",
              "      <th></th>\n",
              "      <th>budget</th>\n",
              "      <th>status</th>\n",
              "      <th>homepage</th>\n",
              "      <th>original_language</th>\n",
              "      <th>runtime</th>\n",
              "      <th>revenue</th>\n",
              "      <th>budget_is_median</th>\n",
              "      <th>runtime_is_median</th>\n",
              "      <th>release_day_of_week</th>\n",
              "      <th>release_day_of_year</th>\n",
              "      <th>release_month</th>\n",
              "      <th>release_year</th>\n",
              "      <th>release_day</th>\n",
              "      <th>release_week</th>\n",
              "      <th>production_companies</th>\n",
              "      <th>production_countries</th>\n",
              "      <th>Keywords</th>\n",
              "      <th>belongs_to_collection</th>\n",
              "      <th>collection_name</th>\n",
              "      <th>_budget_runtime_ratio</th>\n",
              "      <th>_budget_year_ratio</th>\n",
              "    </tr>\n",
              "  </thead>\n",
              "  <tbody>\n",
              "    <tr>\n",
              "      <th>0</th>\n",
              "      <td>14000000.0</td>\n",
              "      <td>1</td>\n",
              "      <td>1</td>\n",
              "      <td>10</td>\n",
              "      <td>93.0</td>\n",
              "      <td>16.326300</td>\n",
              "      <td>0</td>\n",
              "      <td>0</td>\n",
              "      <td>4</td>\n",
              "      <td>51</td>\n",
              "      <td>2</td>\n",
              "      <td>2015</td>\n",
              "      <td>20</td>\n",
              "      <td>8</td>\n",
              "      <td>3</td>\n",
              "      <td>1</td>\n",
              "      <td>4</td>\n",
              "      <td>1</td>\n",
              "      <td>282</td>\n",
              "      <td>150537.63</td>\n",
              "      <td>3.45</td>\n",
              "    </tr>\n",
              "    <tr>\n",
              "      <th>1</th>\n",
              "      <td>40000000.0</td>\n",
              "      <td>1</td>\n",
              "      <td>1</td>\n",
              "      <td>10</td>\n",
              "      <td>113.0</td>\n",
              "      <td>18.370959</td>\n",
              "      <td>0</td>\n",
              "      <td>0</td>\n",
              "      <td>4</td>\n",
              "      <td>219</td>\n",
              "      <td>8</td>\n",
              "      <td>2004</td>\n",
              "      <td>6</td>\n",
              "      <td>32</td>\n",
              "      <td>1</td>\n",
              "      <td>1</td>\n",
              "      <td>4</td>\n",
              "      <td>1</td>\n",
              "      <td>641</td>\n",
              "      <td>353982.30</td>\n",
              "      <td>9.96</td>\n",
              "    </tr>\n",
              "    <tr>\n",
              "      <th>2</th>\n",
              "      <td>3300000.0</td>\n",
              "      <td>1</td>\n",
              "      <td>1</td>\n",
              "      <td>10</td>\n",
              "      <td>105.0</td>\n",
              "      <td>16.387512</td>\n",
              "      <td>0</td>\n",
              "      <td>0</td>\n",
              "      <td>4</td>\n",
              "      <td>283</td>\n",
              "      <td>10</td>\n",
              "      <td>2014</td>\n",
              "      <td>10</td>\n",
              "      <td>41</td>\n",
              "      <td>3</td>\n",
              "      <td>1</td>\n",
              "      <td>12</td>\n",
              "      <td>0</td>\n",
              "      <td>1</td>\n",
              "      <td>31428.57</td>\n",
              "      <td>0.81</td>\n",
              "    </tr>\n",
              "    <tr>\n",
              "      <th>3</th>\n",
              "      <td>1200000.0</td>\n",
              "      <td>1</td>\n",
              "      <td>1</td>\n",
              "      <td>16</td>\n",
              "      <td>122.0</td>\n",
              "      <td>16.588099</td>\n",
              "      <td>0</td>\n",
              "      <td>0</td>\n",
              "      <td>4</td>\n",
              "      <td>69</td>\n",
              "      <td>3</td>\n",
              "      <td>2012</td>\n",
              "      <td>9</td>\n",
              "      <td>10</td>\n",
              "      <td>0</td>\n",
              "      <td>1</td>\n",
              "      <td>7</td>\n",
              "      <td>0</td>\n",
              "      <td>1</td>\n",
              "      <td>9836.07</td>\n",
              "      <td>0.30</td>\n",
              "    </tr>\n",
              "    <tr>\n",
              "      <th>4</th>\n",
              "      <td>16000000.0</td>\n",
              "      <td>1</td>\n",
              "      <td>1</td>\n",
              "      <td>24</td>\n",
              "      <td>118.0</td>\n",
              "      <td>15.182615</td>\n",
              "      <td>1</td>\n",
              "      <td>0</td>\n",
              "      <td>3</td>\n",
              "      <td>36</td>\n",
              "      <td>2</td>\n",
              "      <td>2009</td>\n",
              "      <td>5</td>\n",
              "      <td>6</td>\n",
              "      <td>0</td>\n",
              "      <td>1</td>\n",
              "      <td>0</td>\n",
              "      <td>0</td>\n",
              "      <td>1</td>\n",
              "      <td>135593.22</td>\n",
              "      <td>3.96</td>\n",
              "    </tr>\n",
              "  </tbody>\n",
              "</table>\n",
              "</div>"
            ],
            "text/plain": [
              "       budget  status  ...  _budget_runtime_ratio  _budget_year_ratio\n",
              "0  14000000.0       1  ...              150537.63                3.45\n",
              "1  40000000.0       1  ...              353982.30                9.96\n",
              "2   3300000.0       1  ...               31428.57                0.81\n",
              "3   1200000.0       1  ...                9836.07                0.30\n",
              "4  16000000.0       1  ...              135593.22                3.96\n",
              "\n",
              "[5 rows x 21 columns]"
            ]
          },
          "metadata": {
            "tags": []
          },
          "execution_count": 17
        }
      ]
    },
    {
      "cell_type": "code",
      "metadata": {
        "id": "eS1Qs2bzfpC5",
        "colab_type": "code",
        "colab": {}
      },
      "source": [
        "X_train, X_valid, y_train, y_valid = train_test_split(\n",
        "    rf_train.drop('revenue', axis = 1), rf_train['revenue'], \n",
        "    test_size=0.1, \n",
        "    random_state=42\n",
        ")\n",
        "\n",
        "def rmse(y_pred, y_true):\n",
        "    return np.sqrt(mean_squared_error(y_pred, y_true))\n",
        "\n",
        "def print_rf_score(model):\n",
        "    print(f'Train R2:   {model.score(X_train, y_train)}')\n",
        "    print(f'Valid R2:   {model.score(X_valid, y_valid)}')\n",
        "    print(f'Train RMSE: {rmse(model.predict(X_train), y_train)}')\n",
        "    print(f'Valid RMSE: {rmse(model.predict(X_valid), y_valid)}')\n"
      ],
      "execution_count": 0,
      "outputs": []
    },
    {
      "cell_type": "code",
      "metadata": {
        "id": "ff0quwVWftgZ",
        "colab_type": "code",
        "outputId": "14e59900-30fc-4a29-9e99-d51d8d5ddce1",
        "colab": {
          "base_uri": "https://localhost:8080/",
          "height": 178
        }
      },
      "source": [
        "rf = RandomForestRegressor(n_jobs = -1, oob_score = True, random_state = 42)\n",
        "rf.fit(X_train, y_train)\n",
        "print_rf_score(rf)"
      ],
      "execution_count": 19,
      "outputs": [
        {
          "output_type": "stream",
          "text": [
            "/usr/local/lib/python3.6/dist-packages/sklearn/ensemble/forest.py:245: FutureWarning: The default value of n_estimators will change from 10 in version 0.20 to 100 in 0.22.\n",
            "  \"10 in version 0.20 to 100 in 0.22.\", FutureWarning)\n",
            "/usr/local/lib/python3.6/dist-packages/sklearn/ensemble/forest.py:737: UserWarning: Some inputs do not have OOB scores. This probably means too few trees were used to compute any reliable oob estimates.\n",
            "  warn(\"Some inputs do not have OOB scores. \"\n"
          ],
          "name": "stderr"
        },
        {
          "output_type": "stream",
          "text": [
            "Train R2:   0.9163206234694452\n",
            "Valid R2:   0.5318257934082076\n",
            "Train RMSE: 0.8808092582665443\n",
            "Valid RMSE: 2.003890056606805\n"
          ],
          "name": "stdout"
        }
      ]
    },
    {
      "cell_type": "code",
      "metadata": {
        "id": "rpt6uEHDCBop",
        "colab_type": "code",
        "outputId": "dca891de-0429-4984-fbef-f59b0941615b",
        "colab": {
          "base_uri": "https://localhost:8080/",
          "height": 34
        }
      },
      "source": [
        "rf.oob_score_"
      ],
      "execution_count": 20,
      "outputs": [
        {
          "output_type": "execute_result",
          "data": {
            "text/plain": [
              "0.11563075578688398"
            ]
          },
          "metadata": {
            "tags": []
          },
          "execution_count": 20
        }
      ]
    },
    {
      "cell_type": "code",
      "metadata": {
        "id": "FRzDLVg9hV5t",
        "colab_type": "code",
        "outputId": "07a2e62a-03d0-42d1-9abd-288e13d04745",
        "colab": {
          "base_uri": "https://localhost:8080/",
          "height": 105
        }
      },
      "source": [
        "rf = RandomForestRegressor(\n",
        "    n_estimators = 20, \n",
        "    n_jobs = -1, \n",
        "    oob_score = True, \n",
        "    random_state = 42\n",
        ")\n",
        "rf.fit(X_train, y_train)\n",
        "print_rf_score(rf)\n",
        "print(f'OOB Score:  {rf.oob_score_}')"
      ],
      "execution_count": 21,
      "outputs": [
        {
          "output_type": "stream",
          "text": [
            "Train R2:   0.931118652096101\n",
            "Valid R2:   0.5192007170408431\n",
            "Train RMSE: 0.7991411081593509\n",
            "Valid RMSE: 2.0307293905308867\n",
            "OOB Score:  0.49674005639653185\n"
          ],
          "name": "stdout"
        }
      ]
    },
    {
      "cell_type": "code",
      "metadata": {
        "id": "7silcNW0huLd",
        "colab_type": "code",
        "outputId": "413d2e82-3690-4841-e5e2-24c5ac5f20f1",
        "colab": {
          "base_uri": "https://localhost:8080/",
          "height": 105
        }
      },
      "source": [
        "rf = RandomForestRegressor(\n",
        "    n_estimators = 20, \n",
        "    min_samples_leaf = 4, \n",
        "    max_features = 0.3, \n",
        "    n_jobs = -1, \n",
        "    oob_score = True, \n",
        "    random_state = 42\n",
        ")\n",
        "rf.fit(X_train, y_train)\n",
        "print_rf_score(rf)\n",
        "print(f'OOB Score:  {rf.oob_score_}')"
      ],
      "execution_count": 22,
      "outputs": [
        {
          "output_type": "stream",
          "text": [
            "Train R2:   0.7802014694735809\n",
            "Valid R2:   0.5442741724954188\n",
            "Train RMSE: 1.427529347448806\n",
            "Valid RMSE: 1.977069652287526\n",
            "OOB Score:  0.5263367376912207\n"
          ],
          "name": "stdout"
        }
      ]
    },
    {
      "cell_type": "code",
      "metadata": {
        "id": "IvDjOBPBzzPe",
        "colab_type": "code",
        "outputId": "753976c1-d670-448b-f691-5c8794f6c694",
        "colab": {
          "base_uri": "https://localhost:8080/",
          "height": 422
        }
      },
      "source": [
        "scores = []\n",
        "valid = []\n",
        "train = []\n",
        "for est in range(15,100):\n",
        "  rf = RandomForestRegressor(\n",
        "      n_estimators=est,\n",
        "      min_samples_leaf = 4,\n",
        "      max_features = 0.4,\n",
        "      oob_score = True,\n",
        "      random_state = 42)\n",
        "  rf.fit(X_train, y_train)\n",
        "  train.append(rmse(rf.predict(X_train), y_train))\n",
        "  valid.append(rmse(rf.predict(X_valid), y_valid))\n",
        "  scores.append(rf.oob_score_)\n",
        "plt.plot(range(15,100), scores)\n",
        "plt.legend()\n",
        "plt.xlabel('n_estimators')\n",
        "plt.ylabel('OOB Score')\n",
        "plt.title('OOB Scores')"
      ],
      "execution_count": 23,
      "outputs": [
        {
          "output_type": "stream",
          "text": [
            "/usr/local/lib/python3.6/dist-packages/sklearn/ensemble/forest.py:737: UserWarning: Some inputs do not have OOB scores. This probably means too few trees were used to compute any reliable oob estimates.\n",
            "  warn(\"Some inputs do not have OOB scores. \"\n",
            "/usr/local/lib/python3.6/dist-packages/sklearn/ensemble/forest.py:737: UserWarning: Some inputs do not have OOB scores. This probably means too few trees were used to compute any reliable oob estimates.\n",
            "  warn(\"Some inputs do not have OOB scores. \"\n",
            "No handles with labels found to put in legend.\n"
          ],
          "name": "stderr"
        },
        {
          "output_type": "execute_result",
          "data": {
            "text/plain": [
              "Text(0.5, 1.0, 'OOB Scores')"
            ]
          },
          "metadata": {
            "tags": []
          },
          "execution_count": 23
        },
        {
          "output_type": "display_data",
          "data": {
            "image/png": "[encoded data removed]",
            "text/plain": [
              "<Figure size 432x288 with 1 Axes>"
            ]
          },
          "metadata": {
            "tags": []
          }
        }
      ]
    },
    {
      "cell_type": "code",
      "metadata": {
        "id": "1RcA4FmG8cpN",
        "colab_type": "code",
        "outputId": "5f1324c3-ad08-476d-bc01-efc08ff71cb3",
        "colab": {
          "base_uri": "https://localhost:8080/",
          "height": 314
        }
      },
      "source": [
        "plt.plot(range(15,100), train)\n",
        "plt.xlabel(\"n_estimators\")\n",
        "plt.ylabel(\"RMSLE\")\n",
        "plt.title(\"Training RMSLE\")"
      ],
      "execution_count": 24,
      "outputs": [
        {
          "output_type": "execute_result",
          "data": {
            "text/plain": [
              "Text(0.5, 1.0, 'Training RMSLE')"
            ]
          },
          "metadata": {
            "tags": []
          },
          "execution_count": 24
        },
        {
          "output_type": "display_data",
          "data": {
            "image/png": "[encoded data removed]",
            "text/plain": [
              "<Figure size 432x288 with 1 Axes>"
            ]
          },
          "metadata": {
            "tags": []
          }
        }
      ]
    },
    {
      "cell_type": "code",
      "metadata": {
        "id": "yxJZ_6_u9cR_",
        "colab_type": "code",
        "outputId": "a4f7ea5c-2998-4160-c77b-4a3fd4412e3b",
        "colab": {
          "base_uri": "https://localhost:8080/",
          "height": 314
        }
      },
      "source": [
        "plt.plot(range(15,100), valid)\n",
        "plt.xlabel(\"n_estimators\")\n",
        "plt.ylabel(\"RMSLE\")\n",
        "plt.title(\"Validation RMSLE\")"
      ],
      "execution_count": 25,
      "outputs": [
        {
          "output_type": "execute_result",
          "data": {
            "text/plain": [
              "Text(0.5, 1.0, 'Validation RMSLE')"
            ]
          },
          "metadata": {
            "tags": []
          },
          "execution_count": 25
        },
        {
          "output_type": "display_data",
          "data": {
            "image/png": "[encoded data removed]",
            "text/plain": [
              "<Figure size 432x288 with 1 Axes>"
            ]
          },
          "metadata": {
            "tags": []
          }
        }
      ]
    },
    {
      "cell_type": "code",
      "metadata": {
        "id": "oCNcZcBL7rMI",
        "colab_type": "code",
        "outputId": "bd611546-f201-4e34-c54c-9e22b3b802fe",
        "colab": {
          "base_uri": "https://localhost:8080/",
          "height": 140
        }
      },
      "source": [
        "rf = RandomForestRegressor(\n",
        "      n_estimators= 55,\n",
        "      min_samples_leaf = 5,\n",
        "      max_features = 0.3,\n",
        "      oob_score = True,\n",
        "      random_state = 42)\n",
        "rf.fit(X_train, y_train)"
      ],
      "execution_count": 26,
      "outputs": [
        {
          "output_type": "execute_result",
          "data": {
            "text/plain": [
              "RandomForestRegressor(bootstrap=True, criterion='mse', max_depth=None,\n",
              "                      max_features=0.3, max_leaf_nodes=None,\n",
              "                      min_impurity_decrease=0.0, min_impurity_split=None,\n",
              "                      min_samples_leaf=5, min_samples_split=2,\n",
              "                      min_weight_fraction_leaf=0.0, n_estimators=55,\n",
              "                      n_jobs=None, oob_score=True, random_state=42, verbose=0,\n",
              "                      warm_start=False)"
            ]
          },
          "metadata": {
            "tags": []
          },
          "execution_count": 26
        }
      ]
    },
    {
      "cell_type": "code",
      "metadata": {
        "id": "GaeDpuzdxQHq",
        "colab_type": "code",
        "outputId": "aff5321a-7756-4cbf-d04f-3f7eba4129eb",
        "colab": {
          "base_uri": "https://localhost:8080/",
          "height": 105
        }
      },
      "source": [
        "print_rf_score(rf)\n",
        "rf.oob_score_"
      ],
      "execution_count": 27,
      "outputs": [
        {
          "output_type": "stream",
          "text": [
            "Train R2:   0.7603470593620207\n",
            "Valid R2:   0.5725499670319167\n",
            "Train RMSE: 1.4906100128766768\n",
            "Valid RMSE: 1.914753297692793\n"
          ],
          "name": "stdout"
        },
        {
          "output_type": "execute_result",
          "data": {
            "text/plain": [
              "0.5661572977696719"
            ]
          },
          "metadata": {
            "tags": []
          },
          "execution_count": 27
        }
      ]
    },
    {
      "cell_type": "code",
      "metadata": {
        "id": "7ktKl60hhzuy",
        "colab_type": "code",
        "colab": {}
      },
      "source": [
        "predictions = np.expm1(rf.predict(rf_test))\n",
        "submission['revenue'] = np.round(predictions)\n",
        "submission.to_csv('submission_simple_rf.csv', index = False)\n"
      ],
      "execution_count": 0,
      "outputs": []
    },
    {
      "cell_type": "code",
      "metadata": {
        "id": "GNkwt7EHD77e",
        "colab_type": "code",
        "colab": {}
      },
      "source": [
        "# np.expm1(rf.predict(X_valid))[0:20]\n",
        "# submission['pred'] = np.round(np.expm1(rf.predict(X_valid)))\n",
        "# submission['actual'] = y_valid"
      ],
      "execution_count": 0,
      "outputs": []
    },
    {
      "cell_type": "code",
      "metadata": {
        "id": "fejvH4gJEVrx",
        "colab_type": "code",
        "outputId": "5484e5e1-529f-49a1-d4ed-967951bcc3a2",
        "colab": {
          "base_uri": "https://localhost:8080/",
          "height": 228
        }
      },
      "source": [
        "np.expm1(y_valid)"
      ],
      "execution_count": 30,
      "outputs": [
        {
          "output_type": "execute_result",
          "data": {
            "text/plain": [
              "1801     9247881.0\n",
              "1190           7.0\n",
              "1817       33700.0\n",
              "251     10017322.0\n",
              "2505     8910819.0\n",
              "           ...    \n",
              "2497    41954997.0\n",
              "787       253527.0\n",
              "2636    67918658.0\n",
              "2538    15000000.0\n",
              "402         8251.0\n",
              "Name: revenue, Length: 300, dtype: float64"
            ]
          },
          "metadata": {
            "tags": []
          },
          "execution_count": 30
        }
      ]
    },
    {
      "cell_type": "code",
      "metadata": {
        "id": "ai2xa2uqK8s4",
        "colab_type": "code",
        "colab": {}
      },
      "source": [
        "def xgtrain(X_train, X_valid, y_train, y_valid):\n",
        "    regressor = XGBRegressor(\n",
        "        n_estimators = 50000, \n",
        "        learning_rate = 0.001,\n",
        "        max_depth = 6, \n",
        "        subsample = 0.3, \n",
        "        colsample_bytree = 0.2\n",
        "        )\n",
        "    \n",
        "    regressor_ = regressor.fit(\n",
        "        X_train.values, y_train.values, \n",
        "        eval_metric = 'rmse', \n",
        "        eval_set = [\n",
        "            (X_train.values, y_train.values), \n",
        "            (X_valid.values, y_valid.values)\n",
        "        ],\n",
        "        verbose = 1000,\n",
        "        early_stopping_rounds = 500,\n",
        "        )\n",
        "    \n",
        "    return regressor_"
      ],
      "execution_count": 0,
      "outputs": []
    },
    {
      "cell_type": "code",
      "metadata": {
        "id": "ZR0OBfChK_Dx",
        "colab_type": "code",
        "outputId": "fade5143-1051-49dd-9c18-aa877f7646fd",
        "colab": {
          "base_uri": "https://localhost:8080/",
          "height": 351
        }
      },
      "source": [
        "regressor_ = xgtrain(X_train, X_valid, y_train, y_valid)\n"
      ],
      "execution_count": 32,
      "outputs": [
        {
          "output_type": "stream",
          "text": [
            "[01:55:25] WARNING: /workspace/src/objective/regression_obj.cu:152: reg:linear is now deprecated in favor of reg:squarederror.\n",
            "[0]\tvalidation_0-rmse:15.7199\tvalidation_1-rmse:16.0408\n",
            "Multiple eval metrics have been passed: 'validation_1-rmse' will be used for early stopping.\n",
            "\n",
            "Will train until validation_1-rmse hasn't improved in 500 rounds.\n",
            "[1000]\tvalidation_0-rmse:6.19609\tvalidation_1-rmse:6.36504\n",
            "[2000]\tvalidation_0-rmse:2.96817\tvalidation_1-rmse:3.06732\n",
            "[3000]\tvalidation_0-rmse:2.05797\tvalidation_1-rmse:2.16061\n",
            "[4000]\tvalidation_0-rmse:1.82079\tvalidation_1-rmse:1.9589\n",
            "[5000]\tvalidation_0-rmse:1.72779\tvalidation_1-rmse:1.90872\n",
            "[6000]\tvalidation_0-rmse:1.66687\tvalidation_1-rmse:1.89246\n",
            "[7000]\tvalidation_0-rmse:1.61538\tvalidation_1-rmse:1.88367\n",
            "[8000]\tvalidation_0-rmse:1.56913\tvalidation_1-rmse:1.88008\n",
            "[9000]\tvalidation_0-rmse:1.5279\tvalidation_1-rmse:1.87611\n",
            "[10000]\tvalidation_0-rmse:1.48748\tvalidation_1-rmse:1.87241\n",
            "[11000]\tvalidation_0-rmse:1.4505\tvalidation_1-rmse:1.8715\n",
            "Stopping. Best iteration:\n",
            "[11295]\tvalidation_0-rmse:1.44057\tvalidation_1-rmse:1.86998\n",
            "\n"
          ],
          "name": "stdout"
        }
      ]
    },
    {
      "cell_type": "code",
      "metadata": {
        "id": "sU_vLEtBLMqA",
        "colab_type": "code",
        "colab": {}
      },
      "source": [
        "predictions = np.expm1(regressor_.predict(rf_test.values))\n",
        "submission['revenue'] = np.round(predictions)\n",
        "submission.to_csv('submission_simple_rf.csv', index = False)"
      ],
      "execution_count": 0,
      "outputs": []
    },
    {
      "cell_type": "code",
      "metadata": {
        "id": "tIex4VsRMCxs",
        "colab_type": "code",
        "colab": {}
      },
      "source": [
        "predictions = np.expm1(regressor_.predict(rf_test.values)) + np.expm1(rf.predict(rf_test))\n",
        "predictions /= 2\n",
        "submission['revenue'] = np.round(predictions)\n",
        "submission.to_csv('submission_simple_rf.csv', index = False)"
      ],
      "execution_count": 0,
      "outputs": []
    }
  ]
}